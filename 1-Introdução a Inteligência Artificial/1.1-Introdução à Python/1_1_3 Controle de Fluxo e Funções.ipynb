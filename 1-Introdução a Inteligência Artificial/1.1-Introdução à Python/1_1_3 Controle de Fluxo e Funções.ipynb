{
 "cells": [
  {
   "cell_type": "markdown",
   "metadata": {
    "id": "fuYUPng3jkPB"
   },
   "source": [
    "# 4. Controle de Fluxo\n",
    "\n",
    "Controle de fluxos são utilizados para determinar a sequência de execução de um código. Esses controles podem ser saltos condicioniais (if-else-elif) como também repretições (for e while). A seguir são apresentados os principais controles de fluxos em Python"
   ]
  },
  {
   "cell_type": "markdown",
   "metadata": {},
   "source": [
    "## 4.1 Comando if\n",
    "\n",
    "é utilizado para expressar condições que vão determinar sequências diferentes de execuções. Essas condições são expressadas usando **if**, **else**, **elif** e podem ser usados da seguinte forma:\n",
    "\n"
   ]
  },
  {
   "cell_type": "code",
   "execution_count": 3,
   "metadata": {},
   "outputs": [],
   "source": [
    "if 'condição 1':\n",
    "    pass\n",
    "elif 'condição 2':\n",
    "    pass\n",
    "else:\n",
    "    pass"
   ]
  },
  {
   "cell_type": "markdown",
   "metadata": {},
   "source": [
    "No exemplo, o texto 'condição 1' e 'condição 2' representam as condições para que sejam executados a seguemcia de códigos definidos dentro do **if** e **elif**. Dessa forma, caso a condição for verdadeira, o bloco de código interna é executada. Caso a condição for falsa, o bloco de código **else** é executado\n",
    "\n",
    "\n",
    "Para exemplificar, utilizaremos como exemplo uma sequência de cógido que determina o conceito (A, B, C, D) da nota de um aluno:"
   ]
  },
  {
   "cell_type": "code",
   "execution_count": 4,
   "metadata": {},
   "outputs": [
    {
     "name": "stdout",
     "output_type": "stream",
     "text": [
      "Entre com a nota do aluno: 79\n",
      "C\n"
     ]
    }
   ],
   "source": [
    "nota = int(input('Entre com a nota do aluno: '))\n",
    "\n",
    "if nota >= 90:\n",
    "    if nota == 100:\n",
    "        print('A+')\n",
    "    else:\n",
    "        print('A')\n",
    "        \n",
    "elif nota >= 80:\n",
    "    print('B')\n",
    "    \n",
    "elif nota >= 70:\n",
    "    print('C')\n",
    "\n",
    "else:\n",
    "    print('D')"
   ]
  },
  {
   "cell_type": "markdown",
   "metadata": {},
   "source": [
    "## 4.2 Comando while\n",
    "\n",
    "while é utilizado para repetições enquanto uma condição for verdadeira. É utilizado quando não sabemos ao certo a quantidade de iterações préviamente.\n",
    "\n",
    "Ao final da repetição, podemos adicionar um comando else\n",
    "\n",
    "Podemos utilizar **break** para sair da repetição caso necessário\n",
    "\n",
    "Podemos utilizar **continue** para pular uma iteração no laço"
   ]
  },
  {
   "cell_type": "markdown",
   "metadata": {},
   "source": [
    "## 4.2.1 while"
   ]
  },
  {
   "cell_type": "code",
   "execution_count": 6,
   "metadata": {},
   "outputs": [
    {
     "name": "stdout",
     "output_type": "stream",
     "text": [
      "1\n",
      "2\n",
      "3\n",
      "4\n",
      "5\n",
      "6\n",
      "7\n",
      "8\n",
      "9\n",
      "a repetição terminou!\n"
     ]
    }
   ],
   "source": [
    "i = 0\n",
    "\n",
    "while i < 9:\n",
    "    i = i + 1\n",
    "    print(i)\n",
    "    \n",
    "else:\n",
    "    print('a repetição terminou!')"
   ]
  },
  {
   "cell_type": "markdown",
   "metadata": {},
   "source": [
    "## 4.2.2 while com continue\n",
    "\n",
    "com o continue, assim que o comando é executado ele vai direto para a próxima iteração da repetição. Assim, tudo que está a baixo do continue não é executado"
   ]
  },
  {
   "cell_type": "code",
   "execution_count": 10,
   "metadata": {},
   "outputs": [
    {
     "name": "stdout",
     "output_type": "stream",
     "text": [
      "1\n",
      "2\n",
      "pulou iteração! código a baixo do continue não é executado\n",
      "4\n",
      "5\n",
      "6\n",
      "7\n",
      "8\n",
      "9\n"
     ]
    }
   ],
   "source": [
    "i = 0\n",
    "while i < 9:\n",
    "    i = i + 1\n",
    "    \n",
    "    if i == 3:\n",
    "        print('pulou iteração! código a baixo do continue não é executado')\n",
    "        continue\n",
    "        \n",
    "    print(i)\n"
   ]
  },
  {
   "cell_type": "markdown",
   "metadata": {},
   "source": [
    "## 4.2.3 while com break\n",
    "\n",
    "com o break, assim que o comando é executado a execução sai da repetição, portanto, nenhuma outra iteração do código é executada"
   ]
  },
  {
   "cell_type": "code",
   "execution_count": 11,
   "metadata": {},
   "outputs": [
    {
     "name": "stdout",
     "output_type": "stream",
     "text": [
      "1\n",
      "2\n",
      "3\n",
      "Termina a repetição!\n"
     ]
    }
   ],
   "source": [
    "i = 0\n",
    "while i < 9:\n",
    "    i = i + 1\n",
    "    \n",
    "    if i == 4:\n",
    "        print('Termina a repetição!')\n",
    "        break\n",
    "        \n",
    "    print(i)"
   ]
  },
  {
   "cell_type": "markdown",
   "metadata": {},
   "source": [
    "## 4.3 Comando for\n",
    "\n",
    "O for é tipicamente utilizado para iterar sobre elementos de uma sequencia, incluindo: strings, listas, tuplas, ou até mesmo outro objeto iteravél.\n",
    "\n",
    "O comando for possui a seguinte estrutura"
   ]
  },
  {
   "cell_type": "code",
   "execution_count": 13,
   "metadata": {},
   "outputs": [],
   "source": [
    "for variavel in 'sequencia':\n",
    "    pass"
   ]
  },
  {
   "cell_type": "markdown",
   "metadata": {},
   "source": [
    "variavel recebe um valor da 'sequencia' em cada iteração até atingir o final da sequência. Dessa forma, podemos adicionar o bloco de código desejado para cada iteração dentro do for. Por exemplo:"
   ]
  },
  {
   "cell_type": "code",
   "execution_count": 12,
   "metadata": {},
   "outputs": [
    {
     "name": "stdout",
     "output_type": "stream",
     "text": [
      "gato\n",
      "cachorro\n",
      "peixe\n"
     ]
    }
   ],
   "source": [
    "animais = ['gato', 'cachorro', 'peixe']\n",
    "for i in animais:\n",
    "    print(i)"
   ]
  },
  {
   "cell_type": "markdown",
   "metadata": {},
   "source": [
    "## 4.4 Laços Aninhados\n",
    "\n",
    "são laços dentro de laços que são definidos para executar operações específicas. Como por exemplo, multiplicação de sequências e matrizes"
   ]
  },
  {
   "cell_type": "code",
   "execution_count": 19,
   "metadata": {},
   "outputs": [
    {
     "name": "stdout",
     "output_type": "stream",
     "text": [
      "1*1 = 1 \n",
      "2*1 = 2 2*2 = 4 \n",
      "3*1 = 3 3*2 = 6 3*3 = 9 \n",
      "4*1 = 4 4*2 = 8 4*3 = 12 4*4 = 16 \n",
      "5*1 = 5 5*2 = 10 5*3 = 15 5*4 = 20 5*5 = 25 \n",
      "6*1 = 6 6*2 = 12 6*3 = 18 6*4 = 24 6*5 = 30 6*6 = 36 \n",
      "7*1 = 7 7*2 = 14 7*3 = 21 7*4 = 28 7*5 = 35 7*6 = 42 7*7 = 49 \n",
      "8*1 = 8 8*2 = 16 8*3 = 24 8*4 = 32 8*5 = 40 8*6 = 48 8*7 = 56 8*8 = 64 \n",
      "9*1 = 9 9*2 = 18 9*3 = 27 9*4 = 36 9*5 = 45 9*6 = 54 9*7 = 63 9*8 = 72 9*9 = 81 \n"
     ]
    }
   ],
   "source": [
    "for i in range(1, 10):\n",
    "    for j in range(1, i+1):\n",
    "        print(f'{i}*{j} = {i * j}', end=\" \")\n",
    "    print()"
   ]
  },
  {
   "cell_type": "markdown",
   "metadata": {},
   "source": [
    "# 5. Funções\n",
    "\n",
    "Funções são blocos de código que realizam determinadas tarefas que normalmente precisam ser executadas diversas vezes dentro de uma aplicação. Quando surge essa necessidade, para que várias instruções não precisem ser repetidas, elas são agrupadas em uma função, à qual é dado um nome e que poderá ser chamada/executada em diferentes partes do programa."
   ]
  },
  {
   "cell_type": "code",
   "execution_count": 21,
   "metadata": {},
   "outputs": [],
   "source": [
    "def minha_funcao():\n",
    "    print('Hello')\n",
    "    print('World')"
   ]
  },
  {
   "cell_type": "code",
   "execution_count": 23,
   "metadata": {},
   "outputs": [
    {
     "name": "stdout",
     "output_type": "stream",
     "text": [
      "Hello\n",
      "World\n"
     ]
    }
   ],
   "source": [
    "minha_funcao()"
   ]
  },
  {
   "cell_type": "markdown",
   "metadata": {},
   "source": [
    "## 5.1 Argumentos\n",
    "\n",
    "são usados para passar dados para a função. Existem diferentes formas de passar esses argumentos. Como por exemplo:\n",
    "\n",
    "* por posição\n",
    "* por padrão\n",
    "* por atributo\n",
    "* de forma arbitrária"
   ]
  },
  {
   "cell_type": "code",
   "execution_count": 27,
   "metadata": {},
   "outputs": [],
   "source": [
    "def funcao(a=128, b=2, *args, **kwargs):\n",
    "    print(f'a: {a}')\n",
    "    print(f'b: {b}')\n",
    "    print(f'args: {args}')\n",
    "    \n",
    "    for chave, valor in kwargs.items():\n",
    "        print(f'{chave} é {valor}')\n",
    "    print()"
   ]
  },
  {
   "cell_type": "markdown",
   "metadata": {},
   "source": [
    "### 5.1.1 Passagem de argumento por padrão\n",
    "\n",
    "Quando valores padrões são definidos esses valores são usados caso nenhum argumento seja passado para a função"
   ]
  },
  {
   "cell_type": "code",
   "execution_count": 28,
   "metadata": {},
   "outputs": [
    {
     "name": "stdout",
     "output_type": "stream",
     "text": [
      "a: 128\n",
      "b: 2\n",
      "args: ()\n",
      "\n"
     ]
    }
   ],
   "source": [
    "funcao()"
   ]
  },
  {
   "cell_type": "markdown",
   "metadata": {},
   "source": [
    "### 5.1.2 Passagem de argumento por posição\n",
    "\n",
    "Quando a passagem de argumento por posição é usado, a variavel na posição referenciada é substituida na função:"
   ]
  },
  {
   "cell_type": "code",
   "execution_count": 30,
   "metadata": {},
   "outputs": [
    {
     "name": "stdout",
     "output_type": "stream",
     "text": [
      "a: 0\n",
      "b: 4\n",
      "args: ()\n",
      "\n"
     ]
    }
   ],
   "source": [
    "funcao(0, 4)"
   ]
  },
  {
   "cell_type": "markdown",
   "metadata": {},
   "source": [
    "### 5.1.3 Passagem de argumento por atributo\n",
    "\n",
    "podemos especificar explicitamente o valor de cada atributo, assim não import a posição que os argumentos são passados:"
   ]
  },
  {
   "cell_type": "code",
   "execution_count": 31,
   "metadata": {},
   "outputs": [
    {
     "name": "stdout",
     "output_type": "stream",
     "text": [
      "a: 0\n",
      "b: 4\n",
      "args: ()\n",
      "\n"
     ]
    }
   ],
   "source": [
    "funcao(b=4, a=0)"
   ]
  },
  {
   "cell_type": "markdown",
   "metadata": {},
   "source": [
    "### 5.1.4 Passagem de argumentos  arbitrários\n",
    "\n",
    "muitas vezes não sabemos a quantidade de parâmetros que uma função pode receber. Assim, podemos definir uma quantidade arbitrária utilizando um atributo definido com \\*args. Assim, os argumentos excedentes serão atribuidos a variavel args"
   ]
  },
  {
   "cell_type": "code",
   "execution_count": 32,
   "metadata": {},
   "outputs": [
    {
     "name": "stdout",
     "output_type": "stream",
     "text": [
      "a: 1\n",
      "b: 2\n",
      "args: (3, 4, 5, 6, 7, 8, 9)\n",
      "\n"
     ]
    }
   ],
   "source": [
    "funcao(1, 2, 3, 4, 5, 6, 7, 8, 9)"
   ]
  },
  {
   "cell_type": "markdown",
   "metadata": {},
   "source": [
    "### 5.1.5 Passagem atributos arbitrários\n",
    "\n",
    "da mesma forma, podemos passar novos atributos de forma arbitrária para a função que serão recebidos pelo argumento \\*\\*kwargs"
   ]
  },
  {
   "cell_type": "code",
   "execution_count": 33,
   "metadata": {},
   "outputs": [
    {
     "name": "stdout",
     "output_type": "stream",
     "text": [
      "a: 128\n",
      "b: 2\n",
      "args: ()\n",
      "gato é animal\n",
      "cachorro é animal\n",
      "peixe é animal\n",
      "\n"
     ]
    }
   ],
   "source": [
    "funcao(gato='animal', cachorro='animal', peixe='animal')"
   ]
  },
  {
   "cell_type": "markdown",
   "metadata": {},
   "source": [
    "## 5.2 Retorno de Funções\n",
    "\n",
    "Uma função também pode retornar valores quando forem chamadas. Esse retorno pode ser tanto um valor simples, quanto uma lista de valores"
   ]
  },
  {
   "cell_type": "code",
   "execution_count": 36,
   "metadata": {},
   "outputs": [],
   "source": [
    "def retorna_um_valor(a, b):\n",
    "    return a + b"
   ]
  },
  {
   "cell_type": "code",
   "execution_count": 43,
   "metadata": {},
   "outputs": [
    {
     "name": "stdout",
     "output_type": "stream",
     "text": [
      "a: 30\n"
     ]
    }
   ],
   "source": [
    "a = retorna_um_valor(10, 20)\n",
    "print(f'a: {a}')"
   ]
  },
  {
   "cell_type": "code",
   "execution_count": 40,
   "metadata": {},
   "outputs": [],
   "source": [
    "def retorna_dois_valores(a, b):\n",
    "    return a*2, b*2"
   ]
  },
  {
   "cell_type": "code",
   "execution_count": 42,
   "metadata": {},
   "outputs": [
    {
     "name": "stdout",
     "output_type": "stream",
     "text": [
      "a: 20\n",
      "b: 40\n"
     ]
    }
   ],
   "source": [
    "a, b = retorna_dois_valores(10, 20)\n",
    "print(f'a: {a}')\n",
    "print(f'b: {b}')"
   ]
  },
  {
   "cell_type": "markdown",
   "metadata": {},
   "source": [
    "## 5.3 Função Lambda\n",
    "\n",
    "Em Python, usamos a palavra-chave lambda para declarar uma função anônima, e é por isso que nos referimos a elas como \"funções lambda\". Uma função anônima se refere a uma função declarada sem nome."
   ]
  },
  {
   "cell_type": "code",
   "execution_count": 44,
   "metadata": {},
   "outputs": [
    {
     "data": {
      "text/plain": [
       "200"
      ]
     },
     "execution_count": 44,
     "metadata": {},
     "output_type": "execute_result"
    }
   ],
   "source": [
    "multiplicar = lambda x,y: x*y\n",
    "multiplicar(10,20)"
   ]
  },
  {
   "cell_type": "markdown",
   "metadata": {},
   "source": [
    "## 5.4 Função Map\n",
    "A função map () executa uma função especificada para cada item em um iterável. O item é enviado para a função como parâmetro."
   ]
  },
  {
   "cell_type": "code",
   "execution_count": 45,
   "metadata": {},
   "outputs": [
    {
     "name": "stdout",
     "output_type": "stream",
     "text": [
      "[6, 4, 3]\n"
     ]
    }
   ],
   "source": [
    "conta_letras = lambda x: len(x)\n",
    "contagem     = map(conta_letras, ['banana', 'maça', 'uva'])\n",
    "print(list(contagem))"
   ]
  },
  {
   "cell_type": "code",
   "execution_count": null,
   "metadata": {},
   "outputs": [],
   "source": []
  }
 ],
 "metadata": {
  "colab": {
   "provenance": []
  },
  "kernelspec": {
   "display_name": "Python 3 (ipykernel)",
   "language": "python",
   "name": "python3"
  },
  "language_info": {
   "codemirror_mode": {
    "name": "ipython",
    "version": 3
   },
   "file_extension": ".py",
   "mimetype": "text/x-python",
   "name": "python",
   "nbconvert_exporter": "python",
   "pygments_lexer": "ipython3",
   "version": "3.10.4"
  }
 },
 "nbformat": 4,
 "nbformat_minor": 1
}
