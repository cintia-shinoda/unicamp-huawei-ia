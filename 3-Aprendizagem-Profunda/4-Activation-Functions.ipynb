{
 "cells": [
  {
   "cell_type": "markdown",
   "id": "a650184b",
   "metadata": {},
   "source": [
    "# 3.4 Activation Functions"
   ]
  },
  {
   "cell_type": "markdown",
   "id": "4fff6664",
   "metadata": {},
   "source": []
  }
 ],
 "metadata": {
  "language_info": {
   "name": "python"
  }
 },
 "nbformat": 4,
 "nbformat_minor": 5
}
