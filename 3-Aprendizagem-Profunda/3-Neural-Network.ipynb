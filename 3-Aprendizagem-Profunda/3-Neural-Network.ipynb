{
 "cells": [
  {
   "cell_type": "markdown",
   "id": "67bbcd3c",
   "metadata": {},
   "source": [
    "# 3.3 Neural Network"
   ]
  },
  {
   "cell_type": "markdown",
   "id": "b2649490",
   "metadata": {},
   "source": []
  }
 ],
 "metadata": {
  "language_info": {
   "name": "python"
  }
 },
 "nbformat": 4,
 "nbformat_minor": 5
}
