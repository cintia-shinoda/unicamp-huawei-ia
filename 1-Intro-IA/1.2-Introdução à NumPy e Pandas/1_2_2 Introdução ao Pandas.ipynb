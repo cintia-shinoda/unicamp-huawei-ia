{
 "cells": [
  {
   "attachments": {},
   "cell_type": "markdown",
   "id": "a58ad635",
   "metadata": {},
   "source": [
    "# Introdução ao Pandas\n"
   ]
  },
  {
   "cell_type": "code",
   "execution_count": 1,
   "id": "ed923a75",
   "metadata": {},
   "outputs": [],
   "source": [
    "import pandas as pd\n",
    "import numpy as np"
   ]
  },
  {
   "cell_type": "markdown",
   "id": "UY4NDLjXo5p7",
   "metadata": {
    "id": "UY4NDLjXo5p7"
   },
   "source": [
    "## 1. Séries \n",
    "\n",
    "Series são matrizes unidimensionais rotuladas capazes de armazenar dados de qualquer tipo (inteiro, string, float, objetos python, etc.). Os rótulos dos eixos são chamados coletivamente de índices. Fazendo um paralelo com uma planilha uma série representa uma coluna em uma planilha do Excel. Uma Serie suporta tanto a indexação inteira, quanto a baseada em rótulo e fornece uma série de métodos para executar operações envolvendo o índice."
   ]
  },
  {
   "cell_type": "markdown",
   "id": "aa2e1765",
   "metadata": {},
   "source": [
    "### 1.1 Criando series baseada em lista"
   ]
  },
  {
   "cell_type": "code",
   "execution_count": 2,
   "id": "RDmd_fOmo5p9",
   "metadata": {
    "id": "RDmd_fOmo5p9",
    "outputId": "3a0b4c29-24ca-497b-d81d-a20d2ebc37a4"
   },
   "outputs": [
    {
     "data": {
      "text/plain": [
       "0    A\n",
       "1    B\n",
       "2    C\n",
       "3    D\n",
       "4    E\n",
       "dtype: object"
      ]
     },
     "execution_count": 2,
     "metadata": {},
     "output_type": "execute_result"
    }
   ],
   "source": [
    "serie_1 = pd.Series(['A', 'B', 'C', 'D', 'E'])\n",
    "serie_1"
   ]
  },
  {
   "cell_type": "code",
   "execution_count": 3,
   "id": "rOLVndmKo5p_",
   "metadata": {
    "id": "rOLVndmKo5p_",
    "outputId": "0e061c0e-6d15-4800-c8b3-3df523a06cb1"
   },
   "outputs": [
    {
     "data": {
      "text/plain": [
       "0    20\n",
       "1    30\n",
       "2    40\n",
       "3    50\n",
       "4    60\n",
       "dtype: int64"
      ]
     },
     "execution_count": 3,
     "metadata": {},
     "output_type": "execute_result"
    }
   ],
   "source": [
    "serie_2 = pd.Series([20, 30, 40, 50, 60])\n",
    "serie_2"
   ]
  },
  {
   "cell_type": "markdown",
   "id": "5a9738d9",
   "metadata": {},
   "source": [
    "### 1.2 Criando series baseada em ndarray"
   ]
  },
  {
   "cell_type": "code",
   "execution_count": 4,
   "id": "d0f3f239",
   "metadata": {},
   "outputs": [
    {
     "data": {
      "text/plain": [
       "0    1.0\n",
       "1    1.0\n",
       "2    1.0\n",
       "3    1.0\n",
       "4    1.0\n",
       "dtype: float64"
      ]
     },
     "execution_count": 4,
     "metadata": {},
     "output_type": "execute_result"
    }
   ],
   "source": [
    "s1 = pd.Series(np.ones(5))\n",
    "s1"
   ]
  },
  {
   "cell_type": "markdown",
   "id": "f01c2558",
   "metadata": {},
   "source": [
    "### 1.1 Criando series baseada em dicionários"
   ]
  },
  {
   "cell_type": "code",
   "execution_count": 5,
   "id": "38ec1c69",
   "metadata": {},
   "outputs": [
    {
     "data": {
      "text/plain": [
       "a     1\n",
       "b     3\n",
       "c    50\n",
       "dtype: int64"
      ]
     },
     "execution_count": 5,
     "metadata": {},
     "output_type": "execute_result"
    }
   ],
   "source": [
    "s2 = pd.Series({'a': 1, 'b': 3, 'c':50})\n",
    "s2"
   ]
  },
  {
   "cell_type": "markdown",
   "id": "Z2p7V6S8o5p_",
   "metadata": {
    "id": "Z2p7V6S8o5p_"
   },
   "source": [
    "## 2. DataFrame\n",
    "\n",
    "é uma estrutura de dados bidimensional com os dados alinhados de forma tabular em linhas e colunas, mutável em tamanho e potencialmente heterogênea. A diferença essencial é que os nomes de colunas e os números de linha são conhecidos como índice de coluna e linha, no caso do DataFrame. As colunas possuem nomes (índice da coluna) e, as linhas, podem ter nomes referentes a colunas e as linhas podem ter nomes (índices textuais) ou podem, por padrão, ser numeradas (Índice numérico)."
   ]
  },
  {
   "cell_type": "markdown",
   "id": "85783d85",
   "metadata": {},
   "source": [
    "### 2.1 Criação de um DataFrame"
   ]
  },
  {
   "cell_type": "code",
   "execution_count": 6,
   "id": "cY-YvJ2Xo5qA",
   "metadata": {
    "id": "cY-YvJ2Xo5qA",
    "outputId": "80879dbe-2e6d-4143-e92d-141d1eba1f4c"
   },
   "outputs": [
    {
     "data": {
      "text/html": [
       "<div>\n",
       "<style scoped>\n",
       "    .dataframe tbody tr th:only-of-type {\n",
       "        vertical-align: middle;\n",
       "    }\n",
       "\n",
       "    .dataframe tbody tr th {\n",
       "        vertical-align: top;\n",
       "    }\n",
       "\n",
       "    .dataframe thead th {\n",
       "        text-align: right;\n",
       "    }\n",
       "</style>\n",
       "<table border=\"1\" class=\"dataframe\">\n",
       "  <thead>\n",
       "    <tr style=\"text-align: right;\">\n",
       "      <th></th>\n",
       "      <th>Numeros</th>\n",
       "      <th>Letras</th>\n",
       "      <th>ndarray</th>\n",
       "      <th>lista</th>\n",
       "    </tr>\n",
       "  </thead>\n",
       "  <tbody>\n",
       "    <tr>\n",
       "      <th>0</th>\n",
       "      <td>20</td>\n",
       "      <td>A</td>\n",
       "      <td>1.0</td>\n",
       "      <td>a</td>\n",
       "    </tr>\n",
       "    <tr>\n",
       "      <th>1</th>\n",
       "      <td>30</td>\n",
       "      <td>B</td>\n",
       "      <td>1.0</td>\n",
       "      <td>b</td>\n",
       "    </tr>\n",
       "    <tr>\n",
       "      <th>2</th>\n",
       "      <td>40</td>\n",
       "      <td>C</td>\n",
       "      <td>1.0</td>\n",
       "      <td>c</td>\n",
       "    </tr>\n",
       "    <tr>\n",
       "      <th>3</th>\n",
       "      <td>50</td>\n",
       "      <td>D</td>\n",
       "      <td>1.0</td>\n",
       "      <td>d</td>\n",
       "    </tr>\n",
       "    <tr>\n",
       "      <th>4</th>\n",
       "      <td>60</td>\n",
       "      <td>E</td>\n",
       "      <td>1.0</td>\n",
       "      <td>e</td>\n",
       "    </tr>\n",
       "  </tbody>\n",
       "</table>\n",
       "</div>"
      ],
      "text/plain": [
       "   Numeros Letras  ndarray lista\n",
       "0       20      A      1.0     a\n",
       "1       30      B      1.0     b\n",
       "2       40      C      1.0     c\n",
       "3       50      D      1.0     d\n",
       "4       60      E      1.0     e"
      ]
     },
     "execution_count": 6,
     "metadata": {},
     "output_type": "execute_result"
    }
   ],
   "source": [
    "df = pd.DataFrame({'Numeros' : serie_2,\n",
    "                   'Letras'  : serie_1,\n",
    "                   'ndarray' : np.ones(5),\n",
    "                   'lista'   : ['a', 'b', 'c', 'd', 'e']},\n",
    "                 )\n",
    "df"
   ]
  },
  {
   "cell_type": "markdown",
   "id": "aN7Fvk9Bo5qA",
   "metadata": {
    "id": "aN7Fvk9Bo5qA"
   },
   "source": [
    "### 2.2 Acessando Atributos DataFrame\n",
    "\n",
    "Podemos acessar os atributos do dataframe de duas formas:\n",
    "* **df['atributo']**: referenciando o nome do atributo entre colchetes e aspas\n",
    "* **df.atributo**: referenciando com .atributo, porém caso o atributo possua um \"espaço\" em seu nome este método não funciona "
   ]
  },
  {
   "cell_type": "code",
   "execution_count": 7,
   "id": "wiwfBkiNo5qA",
   "metadata": {
    "id": "wiwfBkiNo5qA",
    "outputId": "75525573-deef-47f7-9d80-5a76d2b4dc2f"
   },
   "outputs": [
    {
     "data": {
      "text/plain": [
       "0    20\n",
       "1    30\n",
       "2    40\n",
       "3    50\n",
       "4    60\n",
       "Name: Numeros, dtype: int64"
      ]
     },
     "execution_count": 7,
     "metadata": {},
     "output_type": "execute_result"
    }
   ],
   "source": [
    "df['Numeros']"
   ]
  },
  {
   "cell_type": "code",
   "execution_count": 8,
   "id": "z3zRbGWWo5qB",
   "metadata": {
    "id": "z3zRbGWWo5qB",
    "outputId": "33ffa103-fbb8-4829-e318-52b4b11323fb"
   },
   "outputs": [
    {
     "data": {
      "text/plain": [
       "0    20\n",
       "1    30\n",
       "2    40\n",
       "3    50\n",
       "4    60\n",
       "Name: Numeros, dtype: int64"
      ]
     },
     "execution_count": 8,
     "metadata": {},
     "output_type": "execute_result"
    }
   ],
   "source": [
    "df.Numeros"
   ]
  },
  {
   "cell_type": "code",
   "execution_count": 9,
   "id": "OdzNcLyUo5qC",
   "metadata": {
    "id": "OdzNcLyUo5qC",
    "outputId": "67ed929c-9a54-4dbe-ba06-21004676feba"
   },
   "outputs": [
    {
     "data": {
      "text/plain": [
       "'A'"
      ]
     },
     "execution_count": 9,
     "metadata": {},
     "output_type": "execute_result"
    }
   ],
   "source": [
    "df.Letras[0]"
   ]
  },
  {
   "cell_type": "code",
   "execution_count": 10,
   "id": "cQOx3VBgo5qC",
   "metadata": {
    "id": "cQOx3VBgo5qC",
    "outputId": "d5aafa10-b99a-4369-b39d-6a24c032546d"
   },
   "outputs": [
    {
     "data": {
      "text/plain": [
       "'B'"
      ]
     },
     "execution_count": 10,
     "metadata": {},
     "output_type": "execute_result"
    }
   ],
   "source": [
    "df.Letras[1]"
   ]
  },
  {
   "cell_type": "markdown",
   "id": "796bfa7b",
   "metadata": {},
   "source": [
    "### 2.3 Alterando Indices\n",
    "\n",
    "* df.set_index(atributo, inplace)\n",
    "    * atributo: informa o nome do atributo que será o novo indice do dataframe\n",
    "    * inplace: {True, False}, aplica as alterações direto no dataframe original"
   ]
  },
  {
   "cell_type": "code",
   "execution_count": 11,
   "id": "18877422",
   "metadata": {},
   "outputs": [
    {
     "data": {
      "text/html": [
       "<div>\n",
       "<style scoped>\n",
       "    .dataframe tbody tr th:only-of-type {\n",
       "        vertical-align: middle;\n",
       "    }\n",
       "\n",
       "    .dataframe tbody tr th {\n",
       "        vertical-align: top;\n",
       "    }\n",
       "\n",
       "    .dataframe thead th {\n",
       "        text-align: right;\n",
       "    }\n",
       "</style>\n",
       "<table border=\"1\" class=\"dataframe\">\n",
       "  <thead>\n",
       "    <tr style=\"text-align: right;\">\n",
       "      <th></th>\n",
       "      <th>Letras</th>\n",
       "      <th>ndarray</th>\n",
       "      <th>lista</th>\n",
       "    </tr>\n",
       "    <tr>\n",
       "      <th>Numeros</th>\n",
       "      <th></th>\n",
       "      <th></th>\n",
       "      <th></th>\n",
       "    </tr>\n",
       "  </thead>\n",
       "  <tbody>\n",
       "    <tr>\n",
       "      <th>20</th>\n",
       "      <td>A</td>\n",
       "      <td>1.0</td>\n",
       "      <td>a</td>\n",
       "    </tr>\n",
       "    <tr>\n",
       "      <th>30</th>\n",
       "      <td>B</td>\n",
       "      <td>1.0</td>\n",
       "      <td>b</td>\n",
       "    </tr>\n",
       "    <tr>\n",
       "      <th>40</th>\n",
       "      <td>C</td>\n",
       "      <td>1.0</td>\n",
       "      <td>c</td>\n",
       "    </tr>\n",
       "    <tr>\n",
       "      <th>50</th>\n",
       "      <td>D</td>\n",
       "      <td>1.0</td>\n",
       "      <td>d</td>\n",
       "    </tr>\n",
       "    <tr>\n",
       "      <th>60</th>\n",
       "      <td>E</td>\n",
       "      <td>1.0</td>\n",
       "      <td>e</td>\n",
       "    </tr>\n",
       "  </tbody>\n",
       "</table>\n",
       "</div>"
      ],
      "text/plain": [
       "        Letras  ndarray lista\n",
       "Numeros                      \n",
       "20           A      1.0     a\n",
       "30           B      1.0     b\n",
       "40           C      1.0     c\n",
       "50           D      1.0     d\n",
       "60           E      1.0     e"
      ]
     },
     "execution_count": 11,
     "metadata": {},
     "output_type": "execute_result"
    }
   ],
   "source": [
    "df.set_index('Numeros', inplace=True)\n",
    "df"
   ]
  },
  {
   "cell_type": "markdown",
   "id": "0ed13e97",
   "metadata": {},
   "source": [
    "### 2.4 .loc e .iloc\n",
    "\n",
    "São métodos alternativos para acessar linhas e/ou elementos de um dataframe, onde as principais diferenças entre eles são:\n",
    "\n",
    "* **.iloc[idx]:** retorna a linha idx do dataframe"
   ]
  },
  {
   "cell_type": "code",
   "execution_count": 12,
   "id": "74e41c42",
   "metadata": {},
   "outputs": [
    {
     "data": {
      "text/plain": [
       "Letras       A\n",
       "ndarray    1.0\n",
       "lista        a\n",
       "Name: 20, dtype: object"
      ]
     },
     "execution_count": 12,
     "metadata": {},
     "output_type": "execute_result"
    }
   ],
   "source": [
    "df.iloc[0]"
   ]
  },
  {
   "cell_type": "markdown",
   "id": "9342e963",
   "metadata": {},
   "source": [
    "* **.loc[idx]:** retorna a linha do dataframe na qual o indice seja igual a idx "
   ]
  },
  {
   "cell_type": "code",
   "execution_count": 13,
   "id": "7b5d134a",
   "metadata": {},
   "outputs": [
    {
     "data": {
      "text/plain": [
       "Letras       A\n",
       "ndarray    1.0\n",
       "lista        a\n",
       "Name: 20, dtype: object"
      ]
     },
     "execution_count": 13,
     "metadata": {},
     "output_type": "execute_result"
    }
   ],
   "source": [
    "df.loc[20]"
   ]
  },
  {
   "cell_type": "markdown",
   "id": "ZlCvTV-Fo5qC",
   "metadata": {
    "id": "ZlCvTV-Fo5qC"
   },
   "source": [
    "## 3. Criando DataFrame com Arquivo .csv\n",
    "\n",
    "Para criar um dataframe baseado em um arquivo .csv utilizamos o seguinte método:\n",
    "* pd.read_csv(file, sep, names)\n",
    "    * file: é o caminho para o arquivo incluindo seu nome\n",
    "    * sep: é o separador utilizado no arquivo csv para separar os dados\n",
    "    * names: não é obrigatório, mas é utilizado para atribuir nome as colunas do dataframe. Assim, deve ser informado uma lista com o nome de cada coluna/atributo"
   ]
  },
  {
   "cell_type": "code",
   "execution_count": 43,
   "id": "bvPjGqtAo5qC",
   "metadata": {
    "id": "bvPjGqtAo5qC",
    "outputId": "9c54301f-0c67-4567-8ac9-395bd2c8c490"
   },
   "outputs": [
    {
     "data": {
      "text/html": [
       "<div>\n",
       "<style scoped>\n",
       "    .dataframe tbody tr th:only-of-type {\n",
       "        vertical-align: middle;\n",
       "    }\n",
       "\n",
       "    .dataframe tbody tr th {\n",
       "        vertical-align: top;\n",
       "    }\n",
       "\n",
       "    .dataframe thead th {\n",
       "        text-align: right;\n",
       "    }\n",
       "</style>\n",
       "<table border=\"1\" class=\"dataframe\">\n",
       "  <thead>\n",
       "    <tr style=\"text-align: right;\">\n",
       "      <th></th>\n",
       "      <th>Id</th>\n",
       "      <th>SepalLengthCm</th>\n",
       "      <th>SepalWidthCm</th>\n",
       "      <th>PetalLengthCm</th>\n",
       "      <th>PetalWidthCm</th>\n",
       "      <th>Species</th>\n",
       "    </tr>\n",
       "  </thead>\n",
       "  <tbody>\n",
       "    <tr>\n",
       "      <th>0</th>\n",
       "      <td>1</td>\n",
       "      <td>5.1</td>\n",
       "      <td>3.5</td>\n",
       "      <td>1.4</td>\n",
       "      <td>0.2</td>\n",
       "      <td>setosa</td>\n",
       "    </tr>\n",
       "    <tr>\n",
       "      <th>1</th>\n",
       "      <td>2</td>\n",
       "      <td>4.9</td>\n",
       "      <td>NaN</td>\n",
       "      <td>1.4</td>\n",
       "      <td>0.2</td>\n",
       "      <td>setosa</td>\n",
       "    </tr>\n",
       "    <tr>\n",
       "      <th>2</th>\n",
       "      <td>3</td>\n",
       "      <td>4.7</td>\n",
       "      <td>3.2</td>\n",
       "      <td>1.3</td>\n",
       "      <td>0.2</td>\n",
       "      <td>setosa</td>\n",
       "    </tr>\n",
       "    <tr>\n",
       "      <th>3</th>\n",
       "      <td>4</td>\n",
       "      <td>4.6</td>\n",
       "      <td>3.1</td>\n",
       "      <td>1.5</td>\n",
       "      <td>0.2</td>\n",
       "      <td>setosa</td>\n",
       "    </tr>\n",
       "    <tr>\n",
       "      <th>4</th>\n",
       "      <td>5</td>\n",
       "      <td>5.0</td>\n",
       "      <td>3.6</td>\n",
       "      <td>1.4</td>\n",
       "      <td>0.2</td>\n",
       "      <td>setosa</td>\n",
       "    </tr>\n",
       "    <tr>\n",
       "      <th>...</th>\n",
       "      <td>...</td>\n",
       "      <td>...</td>\n",
       "      <td>...</td>\n",
       "      <td>...</td>\n",
       "      <td>...</td>\n",
       "      <td>...</td>\n",
       "    </tr>\n",
       "    <tr>\n",
       "      <th>145</th>\n",
       "      <td>146</td>\n",
       "      <td>6.7</td>\n",
       "      <td>3.0</td>\n",
       "      <td>5.2</td>\n",
       "      <td>2.3</td>\n",
       "      <td>virginica</td>\n",
       "    </tr>\n",
       "    <tr>\n",
       "      <th>146</th>\n",
       "      <td>147</td>\n",
       "      <td>6.3</td>\n",
       "      <td>2.5</td>\n",
       "      <td>5.0</td>\n",
       "      <td>1.9</td>\n",
       "      <td>virginica</td>\n",
       "    </tr>\n",
       "    <tr>\n",
       "      <th>147</th>\n",
       "      <td>148</td>\n",
       "      <td>6.5</td>\n",
       "      <td>3.0</td>\n",
       "      <td>5.2</td>\n",
       "      <td>2.0</td>\n",
       "      <td>virginica</td>\n",
       "    </tr>\n",
       "    <tr>\n",
       "      <th>148</th>\n",
       "      <td>149</td>\n",
       "      <td>6.2</td>\n",
       "      <td>3.4</td>\n",
       "      <td>5.4</td>\n",
       "      <td>2.3</td>\n",
       "      <td>virginica</td>\n",
       "    </tr>\n",
       "    <tr>\n",
       "      <th>149</th>\n",
       "      <td>150</td>\n",
       "      <td>5.9</td>\n",
       "      <td>3.0</td>\n",
       "      <td>5.1</td>\n",
       "      <td>1.8</td>\n",
       "      <td>virginica</td>\n",
       "    </tr>\n",
       "  </tbody>\n",
       "</table>\n",
       "<p>150 rows × 6 columns</p>\n",
       "</div>"
      ],
      "text/plain": [
       "      Id  SepalLengthCm  SepalWidthCm  PetalLengthCm  PetalWidthCm    Species\n",
       "0      1            5.1           3.5            1.4           0.2     setosa\n",
       "1      2            4.9           NaN            1.4           0.2     setosa\n",
       "2      3            4.7           3.2            1.3           0.2     setosa\n",
       "3      4            4.6           3.1            1.5           0.2     setosa\n",
       "4      5            5.0           3.6            1.4           0.2     setosa\n",
       "..   ...            ...           ...            ...           ...        ...\n",
       "145  146            6.7           3.0            5.2           2.3  virginica\n",
       "146  147            6.3           2.5            5.0           1.9  virginica\n",
       "147  148            6.5           3.0            5.2           2.0  virginica\n",
       "148  149            6.2           3.4            5.4           2.3  virginica\n",
       "149  150            5.9           3.0            5.1           1.8  virginica\n",
       "\n",
       "[150 rows x 6 columns]"
      ]
     },
     "execution_count": 43,
     "metadata": {},
     "output_type": "execute_result"
    }
   ],
   "source": [
    "df = pd.read_csv('Iris.csv', sep=',')\n",
    "df"
   ]
  },
  {
   "cell_type": "markdown",
   "id": "41b5eab8",
   "metadata": {},
   "source": [
    "## 4. Análise Inicial dos dados"
   ]
  },
  {
   "cell_type": "markdown",
   "id": "a8f10a2c",
   "metadata": {},
   "source": [
    "### 4.1 Visualizando Amostras Iniciais do Dataset\n",
    "\n",
    "Para visualizar as amostras iniciais dos dados utilizamos o método:\n",
    "* df.head(quantidade)\n",
    "    * quantidade: informa a quantidade de linhas superiores a serem mostradas do dataframe"
   ]
  },
  {
   "cell_type": "code",
   "execution_count": 15,
   "id": "2ab6031f",
   "metadata": {},
   "outputs": [
    {
     "data": {
      "text/html": [
       "<div>\n",
       "<style scoped>\n",
       "    .dataframe tbody tr th:only-of-type {\n",
       "        vertical-align: middle;\n",
       "    }\n",
       "\n",
       "    .dataframe tbody tr th {\n",
       "        vertical-align: top;\n",
       "    }\n",
       "\n",
       "    .dataframe thead th {\n",
       "        text-align: right;\n",
       "    }\n",
       "</style>\n",
       "<table border=\"1\" class=\"dataframe\">\n",
       "  <thead>\n",
       "    <tr style=\"text-align: right;\">\n",
       "      <th></th>\n",
       "      <th>Id</th>\n",
       "      <th>SepalLengthCm</th>\n",
       "      <th>SepalWidthCm</th>\n",
       "      <th>PetalLengthCm</th>\n",
       "      <th>PetalWidthCm</th>\n",
       "      <th>Species</th>\n",
       "    </tr>\n",
       "  </thead>\n",
       "  <tbody>\n",
       "    <tr>\n",
       "      <th>0</th>\n",
       "      <td>1</td>\n",
       "      <td>5.1</td>\n",
       "      <td>3.5</td>\n",
       "      <td>1.4</td>\n",
       "      <td>0.2</td>\n",
       "      <td>setosa</td>\n",
       "    </tr>\n",
       "    <tr>\n",
       "      <th>1</th>\n",
       "      <td>2</td>\n",
       "      <td>4.9</td>\n",
       "      <td>NaN</td>\n",
       "      <td>1.4</td>\n",
       "      <td>0.2</td>\n",
       "      <td>setosa</td>\n",
       "    </tr>\n",
       "    <tr>\n",
       "      <th>2</th>\n",
       "      <td>3</td>\n",
       "      <td>4.7</td>\n",
       "      <td>3.2</td>\n",
       "      <td>1.3</td>\n",
       "      <td>0.2</td>\n",
       "      <td>setosa</td>\n",
       "    </tr>\n",
       "    <tr>\n",
       "      <th>3</th>\n",
       "      <td>4</td>\n",
       "      <td>4.6</td>\n",
       "      <td>3.1</td>\n",
       "      <td>1.5</td>\n",
       "      <td>0.2</td>\n",
       "      <td>setosa</td>\n",
       "    </tr>\n",
       "    <tr>\n",
       "      <th>4</th>\n",
       "      <td>5</td>\n",
       "      <td>5.0</td>\n",
       "      <td>3.6</td>\n",
       "      <td>1.4</td>\n",
       "      <td>0.2</td>\n",
       "      <td>setosa</td>\n",
       "    </tr>\n",
       "    <tr>\n",
       "      <th>5</th>\n",
       "      <td>6</td>\n",
       "      <td>5.4</td>\n",
       "      <td>3.9</td>\n",
       "      <td>1.7</td>\n",
       "      <td>0.4</td>\n",
       "      <td>setosa</td>\n",
       "    </tr>\n",
       "    <tr>\n",
       "      <th>6</th>\n",
       "      <td>7</td>\n",
       "      <td>4.6</td>\n",
       "      <td>3.4</td>\n",
       "      <td>1.4</td>\n",
       "      <td>0.3</td>\n",
       "      <td>setosa</td>\n",
       "    </tr>\n",
       "  </tbody>\n",
       "</table>\n",
       "</div>"
      ],
      "text/plain": [
       "   Id  SepalLengthCm  SepalWidthCm  PetalLengthCm  PetalWidthCm Species\n",
       "0   1            5.1           3.5            1.4           0.2  setosa\n",
       "1   2            4.9           NaN            1.4           0.2  setosa\n",
       "2   3            4.7           3.2            1.3           0.2  setosa\n",
       "3   4            4.6           3.1            1.5           0.2  setosa\n",
       "4   5            5.0           3.6            1.4           0.2  setosa\n",
       "5   6            5.4           3.9            1.7           0.4  setosa\n",
       "6   7            4.6           3.4            1.4           0.3  setosa"
      ]
     },
     "execution_count": 15,
     "metadata": {},
     "output_type": "execute_result"
    }
   ],
   "source": [
    "df.head(7)"
   ]
  },
  {
   "cell_type": "markdown",
   "id": "87f4d97c",
   "metadata": {},
   "source": [
    "### 4.2 Visualizando Amostras Finais do Dataset\n",
    "\n",
    "Para visualizar as amostras finais dos dados utilizamos o método:\n",
    "* df.tail(quantidade)\n",
    "    * quantidade: informa a quantidade de linhas inferiores a serem mostradas do dataframe"
   ]
  },
  {
   "cell_type": "code",
   "execution_count": 16,
   "id": "bf1d584e",
   "metadata": {},
   "outputs": [
    {
     "data": {
      "text/html": [
       "<div>\n",
       "<style scoped>\n",
       "    .dataframe tbody tr th:only-of-type {\n",
       "        vertical-align: middle;\n",
       "    }\n",
       "\n",
       "    .dataframe tbody tr th {\n",
       "        vertical-align: top;\n",
       "    }\n",
       "\n",
       "    .dataframe thead th {\n",
       "        text-align: right;\n",
       "    }\n",
       "</style>\n",
       "<table border=\"1\" class=\"dataframe\">\n",
       "  <thead>\n",
       "    <tr style=\"text-align: right;\">\n",
       "      <th></th>\n",
       "      <th>Id</th>\n",
       "      <th>SepalLengthCm</th>\n",
       "      <th>SepalWidthCm</th>\n",
       "      <th>PetalLengthCm</th>\n",
       "      <th>PetalWidthCm</th>\n",
       "      <th>Species</th>\n",
       "    </tr>\n",
       "  </thead>\n",
       "  <tbody>\n",
       "    <tr>\n",
       "      <th>147</th>\n",
       "      <td>148</td>\n",
       "      <td>6.5</td>\n",
       "      <td>3.0</td>\n",
       "      <td>5.2</td>\n",
       "      <td>2.0</td>\n",
       "      <td>virginica</td>\n",
       "    </tr>\n",
       "    <tr>\n",
       "      <th>148</th>\n",
       "      <td>149</td>\n",
       "      <td>6.2</td>\n",
       "      <td>3.4</td>\n",
       "      <td>5.4</td>\n",
       "      <td>2.3</td>\n",
       "      <td>virginica</td>\n",
       "    </tr>\n",
       "    <tr>\n",
       "      <th>149</th>\n",
       "      <td>150</td>\n",
       "      <td>5.9</td>\n",
       "      <td>3.0</td>\n",
       "      <td>5.1</td>\n",
       "      <td>1.8</td>\n",
       "      <td>virginica</td>\n",
       "    </tr>\n",
       "  </tbody>\n",
       "</table>\n",
       "</div>"
      ],
      "text/plain": [
       "      Id  SepalLengthCm  SepalWidthCm  PetalLengthCm  PetalWidthCm    Species\n",
       "147  148            6.5           3.0            5.2           2.0  virginica\n",
       "148  149            6.2           3.4            5.4           2.3  virginica\n",
       "149  150            5.9           3.0            5.1           1.8  virginica"
      ]
     },
     "execution_count": 16,
     "metadata": {},
     "output_type": "execute_result"
    }
   ],
   "source": [
    "df.tail(3)"
   ]
  },
  {
   "cell_type": "markdown",
   "id": "b7dcf33b",
   "metadata": {},
   "source": [
    "### 4.3 Identificando Colunas, Indices e Valores\n",
    "\n",
    "Podemos obter arrays contendo as colunas, indices e até mesmo os valores do dataframe para executar determinadas operações, como por exemplo: (i) re-ordenar as colunas do dataframe; (ii) desenvolver métodos para iterar sobres colunas específicas; (iii) operações com indices; (iv) aplicar os valores em um modelo; etc. Assim, podemos obter essas informações da seguinte forma:\n",
    "\n",
    "* df.columns\n",
    "* df.index\n",
    "* df.values"
   ]
  },
  {
   "cell_type": "code",
   "execution_count": 17,
   "id": "bf0336ba",
   "metadata": {},
   "outputs": [
    {
     "data": {
      "text/plain": [
       "Index(['Id', 'SepalLengthCm', 'SepalWidthCm', 'PetalLengthCm', 'PetalWidthCm',\n",
       "       'Species'],\n",
       "      dtype='object')"
      ]
     },
     "execution_count": 17,
     "metadata": {},
     "output_type": "execute_result"
    }
   ],
   "source": [
    "df.columns"
   ]
  },
  {
   "cell_type": "code",
   "execution_count": 18,
   "id": "aca60c86",
   "metadata": {},
   "outputs": [
    {
     "data": {
      "text/plain": [
       "RangeIndex(start=0, stop=150, step=1)"
      ]
     },
     "execution_count": 18,
     "metadata": {},
     "output_type": "execute_result"
    }
   ],
   "source": [
    "df.index"
   ]
  },
  {
   "cell_type": "code",
   "execution_count": 19,
   "id": "488d7ac2",
   "metadata": {
    "scrolled": true
   },
   "outputs": [
    {
     "name": "stdout",
     "output_type": "stream",
     "text": [
      "<class 'numpy.ndarray'>\n"
     ]
    },
    {
     "data": {
      "text/plain": [
       "array([[1, 5.1, 3.5, 1.4, 0.2, 'setosa'],\n",
       "       [2, 4.9, nan, 1.4, 0.2, 'setosa'],\n",
       "       [3, 4.7, 3.2, 1.3, 0.2, 'setosa'],\n",
       "       [4, 4.6, 3.1, 1.5, 0.2, 'setosa'],\n",
       "       [5, 5.0, 3.6, 1.4, 0.2, 'setosa'],\n",
       "       [6, 5.4, 3.9, 1.7, 0.4, 'setosa'],\n",
       "       [7, 4.6, 3.4, 1.4, 0.3, 'setosa'],\n",
       "       [8, 5.0, 3.4, 1.5, 0.2, 'setosa'],\n",
       "       [9, 4.4, 2.9, 1.4, 0.2, 'setosa'],\n",
       "       [10, nan, 3.1, 1.5, 0.1, 'setosa'],\n",
       "       [11, 5.4, 3.7, 1.5, 0.2, 'setosa'],\n",
       "       [12, 4.8, 3.4, 1.6, 0.2, 'setosa'],\n",
       "       [13, 4.8, 3.0, 1.4, 0.1, 'setosa'],\n",
       "       [14, 4.3, 3.0, 1.1, 0.1, 'setosa'],\n",
       "       [15, 5.8, 4.0, 1.2, 0.2, 'setosa'],\n",
       "       [16, 5.7, 4.4, 1.5, 0.4, 'setosa'],\n",
       "       [17, 5.4, 3.9, 1.3, 0.4, 'setosa'],\n",
       "       [18, 5.1, 3.5, 1.4, 0.3, 'setosa'],\n",
       "       [19, 5.7, 3.8, 1.7, 0.3, 'setosa'],\n",
       "       [20, 5.1, 3.8, 1.5, 0.3, 'setosa'],\n",
       "       [21, 5.4, 3.4, 1.7, 0.2, 'setosa'],\n",
       "       [22, 5.1, 3.7, 1.5, 0.4, 'setosa'],\n",
       "       [23, 4.6, 3.6, 1.0, 0.2, 'setosa'],\n",
       "       [24, 5.1, 3.3, 1.7, 0.5, 'setosa'],\n",
       "       [25, 4.8, 3.4, 1.9, 0.2, 'setosa'],\n",
       "       [26, 5.0, 3.0, 1.6, 0.2, 'setosa'],\n",
       "       [27, 5.0, 3.4, 1.6, 0.4, 'setosa'],\n",
       "       [28, 5.2, 3.5, 1.5, 0.2, 'setosa'],\n",
       "       [29, 5.2, 3.4, 1.4, 0.2, 'setosa'],\n",
       "       [30, 4.7, 3.2, 1.6, 0.2, 'setosa'],\n",
       "       [31, nan, 3.1, 1.6, 0.2, 'setosa'],\n",
       "       [32, 5.4, 3.4, 1.5, 0.4, 'setosa'],\n",
       "       [33, 5.2, 4.1, 1.5, 0.1, 'setosa'],\n",
       "       [34, 5.5, 4.2, 1.4, 0.2, 'setosa'],\n",
       "       [35, 4.9, 3.1, 1.5, 0.1, 'setosa'],\n",
       "       [36, 5.0, 3.2, 1.2, 0.2, 'setosa'],\n",
       "       [37, 5.5, 3.5, 1.3, 0.2, 'setosa'],\n",
       "       [38, 4.9, 3.1, 1.5, 0.1, 'setosa'],\n",
       "       [39, 4.4, 3.0, 1.3, 0.2, 'setosa'],\n",
       "       [40, 5.1, 3.4, 1.5, 0.2, 'setosa'],\n",
       "       [41, 5.0, 3.5, 1.3, 0.3, 'setosa'],\n",
       "       [42, 4.5, 2.3, 1.3, 0.3, 'setosa'],\n",
       "       [43, 4.4, 3.2, 1.3, 0.2, 'setosa'],\n",
       "       [44, 5.0, 3.5, 1.6, 0.6, 'setosa'],\n",
       "       [45, 5.1, 3.8, 1.9, 0.4, 'setosa'],\n",
       "       [46, 4.8, 3.0, 1.4, 0.3, 'setosa'],\n",
       "       [47, 5.1, 3.8, 1.6, 0.2, 'setosa'],\n",
       "       [48, 4.6, 3.2, 1.4, 0.2, 'setosa'],\n",
       "       [49, 5.3, 3.7, 1.5, 0.2, 'setosa'],\n",
       "       [50, 5.0, 3.3, 1.4, 0.2, 'setosa'],\n",
       "       [51, 7.0, 3.2, 4.7, 1.4, 'versicolor'],\n",
       "       [52, 6.4, 3.2, 4.5, 1.5, 'versicolor'],\n",
       "       [53, 6.9, 3.1, 4.9, 1.5, 'versicolor'],\n",
       "       [54, 5.5, 2.3, 4.0, 1.3, 'versicolor'],\n",
       "       [55, 6.5, 2.8, 4.6, 1.5, 'versicolor'],\n",
       "       [56, 5.7, 2.8, 4.5, 1.3, 'versicolor'],\n",
       "       [57, 6.3, 3.3, 4.7, 1.6, 'versicolor'],\n",
       "       [58, 4.9, 2.4, 3.3, 1.0, 'versicolor'],\n",
       "       [59, 6.6, 2.9, 4.6, 1.3, 'versicolor'],\n",
       "       [60, 5.2, 2.7, 3.9, 1.4, 'versicolor'],\n",
       "       [61, 5.0, 2.0, 3.5, 1.0, 'versicolor'],\n",
       "       [62, 5.9, 3.0, 4.2, 1.5, 'versicolor'],\n",
       "       [63, 6.0, 2.2, 4.0, 1.0, nan],\n",
       "       [64, 6.1, 2.9, 4.7, 1.4, 'versicolor'],\n",
       "       [65, 5.6, 2.9, 3.6, 1.3, 'versicolor'],\n",
       "       [66, 6.7, 3.1, 4.4, 1.4, 'versicolor'],\n",
       "       [67, 5.6, 3.0, 4.5, 1.5, 'versicolor'],\n",
       "       [68, 5.8, 2.7, 4.1, 1.0, 'versicolor'],\n",
       "       [69, 6.2, 2.2, 4.5, 1.5, 'versicolor'],\n",
       "       [70, 5.6, 2.5, 3.9, 1.1, 'versicolor'],\n",
       "       [71, 5.9, 3.2, 4.8, 1.8, 'versicolor'],\n",
       "       [72, 6.1, 2.8, 4.0, 1.3, 'versicolor'],\n",
       "       [73, 6.3, 2.5, 4.9, 1.5, 'versicolor'],\n",
       "       [74, 6.1, 2.8, 4.7, 1.2, 'versicolor'],\n",
       "       [75, 6.4, 2.9, 4.3, 1.3, 'versicolor'],\n",
       "       [76, 6.6, 3.0, 4.4, 1.4, 'versicolor'],\n",
       "       [77, 6.8, 2.8, 4.8, 1.4, 'versicolor'],\n",
       "       [78, 6.7, 3.0, 5.0, 1.7, 'versicolor'],\n",
       "       [79, 6.0, 2.9, 4.5, 1.5, 'versicolor'],\n",
       "       [80, 5.7, 2.6, 3.5, 1.0, 'versicolor'],\n",
       "       [81, 5.5, 2.4, 3.8, 1.1, 'versicolor'],\n",
       "       [82, 5.5, 2.4, 3.7, 1.0, 'versicolor'],\n",
       "       [83, 5.8, 2.7, 3.9, 1.2, 'versicolor'],\n",
       "       [84, 6.0, 2.7, 5.1, 1.6, 'versicolor'],\n",
       "       [85, 5.4, 3.0, 4.5, 1.5, 'versicolor'],\n",
       "       [86, 6.0, 3.4, 4.5, 1.6, 'versicolor'],\n",
       "       [87, 6.7, 3.1, 4.7, 1.5, 'versicolor'],\n",
       "       [88, 6.3, 2.3, 4.4, 1.3, 'versicolor'],\n",
       "       [89, 5.6, 3.0, 4.1, 1.3, 'versicolor'],\n",
       "       [90, 5.5, 2.5, 4.0, 1.3, 'versicolor'],\n",
       "       [91, 5.5, 2.6, 4.4, 1.2, 'versicolor'],\n",
       "       [92, 6.1, 3.0, 4.6, 1.4, 'versicolor'],\n",
       "       [93, 5.8, 2.6, 4.0, 1.2, 'versicolor'],\n",
       "       [94, 5.0, 2.3, 3.3, 1.0, 'versicolor'],\n",
       "       [95, 5.6, 2.7, 4.2, 1.3, 'versicolor'],\n",
       "       [96, 5.7, 3.0, 4.2, 1.2, 'versicolor'],\n",
       "       [97, 5.7, 2.9, 4.2, 1.3, 'versicolor'],\n",
       "       [98, 6.2, 2.9, 4.3, 1.3, 'versicolor'],\n",
       "       [99, 5.1, 2.5, 3.0, 1.1, 'versicolor'],\n",
       "       [100, 5.7, 2.8, 4.1, 1.3, 'versicolor'],\n",
       "       [101, 6.3, 3.3, 6.0, 2.5, 'virginica'],\n",
       "       [102, 5.8, 2.7, 5.1, 1.9, 'virginica'],\n",
       "       [103, 7.1, 3.0, 5.9, 2.1, 'virginica'],\n",
       "       [104, 6.3, 2.9, 5.6, 1.8, 'virginica'],\n",
       "       [105, 6.5, 3.0, 5.8, 2.2, 'virginica'],\n",
       "       [106, 7.6, 3.0, 6.6, 2.1, 'virginica'],\n",
       "       [107, 4.9, 2.5, 4.5, 1.7, 'virginica'],\n",
       "       [108, 7.3, 2.9, 6.3, 1.8, 'virginica'],\n",
       "       [109, 6.7, 2.5, 5.8, 1.8, 'virginica'],\n",
       "       [110, 7.2, 3.6, 6.1, 2.5, 'virginica'],\n",
       "       [111, 6.5, 3.2, 5.1, 2.0, 'virginica'],\n",
       "       [112, 6.4, 2.7, 5.3, 1.9, 'virginica'],\n",
       "       [113, 6.8, 3.0, 5.5, 2.1, 'virginica'],\n",
       "       [114, 5.7, 2.5, 5.0, 2.0, 'virginica'],\n",
       "       [115, 5.8, 2.8, 5.1, 2.4, 'virginica'],\n",
       "       [116, 6.4, 3.2, 5.3, 2.3, 'virginica'],\n",
       "       [117, 6.5, 3.0, 5.5, 1.8, 'virginica'],\n",
       "       [118, 7.7, 3.8, 6.7, 2.2, 'virginica'],\n",
       "       [119, 7.7, 2.6, 6.9, 2.3, 'virginica'],\n",
       "       [120, 6.0, 2.2, 5.0, 1.5, 'virginica'],\n",
       "       [121, 6.9, 3.2, 5.7, 2.3, 'virginica'],\n",
       "       [122, 5.6, 2.8, 4.9, 2.0, 'virginica'],\n",
       "       [123, 7.7, 2.8, 6.7, 2.0, 'virginica'],\n",
       "       [124, 6.3, 2.7, 4.9, 1.8, 'virginica'],\n",
       "       [125, 6.7, 3.3, 5.7, 2.1, 'virginica'],\n",
       "       [126, 7.2, 3.2, 6.0, 1.8, 'virginica'],\n",
       "       [127, 6.2, 2.8, 4.8, 1.8, 'virginica'],\n",
       "       [128, 6.1, 3.0, 4.9, 1.8, 'virginica'],\n",
       "       [129, 6.4, 2.8, 5.6, 2.1, 'virginica'],\n",
       "       [130, 7.2, 3.0, 5.8, 1.6, 'virginica'],\n",
       "       [131, 7.4, 2.8, 6.1, 1.9, 'virginica'],\n",
       "       [132, 7.9, 3.8, 6.4, 2.0, 'virginica'],\n",
       "       [133, 6.4, 2.8, 5.6, 2.2, 'virginica'],\n",
       "       [134, 6.3, 2.8, nan, 1.5, 'virginica'],\n",
       "       [135, 6.1, 2.6, 5.6, 1.4, 'virginica'],\n",
       "       [136, 7.7, 3.0, 6.1, 2.3, 'virginica'],\n",
       "       [137, 6.3, 3.4, 5.6, 2.4, 'virginica'],\n",
       "       [138, 6.4, 3.1, 5.5, 1.8, 'virginica'],\n",
       "       [139, 6.0, 3.0, 4.8, 1.8, 'virginica'],\n",
       "       [140, 6.9, 3.1, 5.4, 2.1, 'virginica'],\n",
       "       [141, 6.7, 3.1, 5.6, 2.4, 'virginica'],\n",
       "       [142, 6.9, 3.1, 5.1, 2.3, 'virginica'],\n",
       "       [143, 5.8, 2.7, 5.1, 1.9, 'virginica'],\n",
       "       [144, 6.8, 3.2, 5.9, 2.3, 'virginica'],\n",
       "       [145, 6.7, 3.3, 5.7, 2.5, 'virginica'],\n",
       "       [146, 6.7, 3.0, 5.2, 2.3, 'virginica'],\n",
       "       [147, 6.3, 2.5, 5.0, 1.9, 'virginica'],\n",
       "       [148, 6.5, 3.0, 5.2, 2.0, 'virginica'],\n",
       "       [149, 6.2, 3.4, 5.4, 2.3, 'virginica'],\n",
       "       [150, 5.9, 3.0, 5.1, 1.8, 'virginica']], dtype=object)"
      ]
     },
     "execution_count": 19,
     "metadata": {},
     "output_type": "execute_result"
    }
   ],
   "source": [
    "print(type(df.values))\n",
    "df.values"
   ]
  },
  {
   "cell_type": "markdown",
   "id": "dbd29ae5",
   "metadata": {},
   "source": [
    "### 4.4 Identificando Tipos dos Atributos"
   ]
  },
  {
   "cell_type": "code",
   "execution_count": 20,
   "id": "20a53c29",
   "metadata": {
    "scrolled": true
   },
   "outputs": [
    {
     "data": {
      "text/plain": [
       "Id                 int64\n",
       "SepalLengthCm    float64\n",
       "SepalWidthCm     float64\n",
       "PetalLengthCm    float64\n",
       "PetalWidthCm     float64\n",
       "Species           object\n",
       "dtype: object"
      ]
     },
     "execution_count": 20,
     "metadata": {},
     "output_type": "execute_result"
    }
   ],
   "source": [
    "df.dtypes"
   ]
  },
  {
   "cell_type": "markdown",
   "id": "6e07dc2e",
   "metadata": {},
   "source": [
    "### 4.5 Obtendo o Tamanho do Dataset\n",
    "\n",
    "É possível obter o tamanho do dataframe utilizando a mesma abordagen das listas\n",
    "* len(df)"
   ]
  },
  {
   "cell_type": "code",
   "execution_count": 21,
   "id": "0397dd12",
   "metadata": {},
   "outputs": [
    {
     "data": {
      "text/plain": [
       "150"
      ]
     },
     "execution_count": 21,
     "metadata": {},
     "output_type": "execute_result"
    }
   ],
   "source": [
    "len(df)"
   ]
  },
  {
   "cell_type": "markdown",
   "id": "94b41021",
   "metadata": {},
   "source": [
    "### 4.6 Obtendo o Formato do Dataset\n",
    "\n",
    "É possível obter o formato do dataframe utilizando a mesma abordagen dos ndarrays\n",
    "* df.shape"
   ]
  },
  {
   "cell_type": "code",
   "execution_count": 22,
   "id": "e37ce096",
   "metadata": {},
   "outputs": [
    {
     "data": {
      "text/plain": [
       "(150, 6)"
      ]
     },
     "execution_count": 22,
     "metadata": {},
     "output_type": "execute_result"
    }
   ],
   "source": [
    "df.shape"
   ]
  },
  {
   "cell_type": "markdown",
   "id": "565a68ef",
   "metadata": {},
   "source": [
    "### 4.7 Obtendo Informações Detalhadas\n",
    "\n",
    "Todas essas informações préviamente apresentadas podem ser obtidas de forma resumida utilizando o método:\n",
    "* df.info()\n"
   ]
  },
  {
   "cell_type": "code",
   "execution_count": 23,
   "id": "c4ce5ffd",
   "metadata": {},
   "outputs": [
    {
     "name": "stdout",
     "output_type": "stream",
     "text": [
      "<class 'pandas.core.frame.DataFrame'>\n",
      "RangeIndex: 150 entries, 0 to 149\n",
      "Data columns (total 6 columns):\n",
      " #   Column         Non-Null Count  Dtype  \n",
      "---  ------         --------------  -----  \n",
      " 0   Id             150 non-null    int64  \n",
      " 1   SepalLengthCm  148 non-null    float64\n",
      " 2   SepalWidthCm   149 non-null    float64\n",
      " 3   PetalLengthCm  149 non-null    float64\n",
      " 4   PetalWidthCm   150 non-null    float64\n",
      " 5   Species        149 non-null    object \n",
      "dtypes: float64(4), int64(1), object(1)\n",
      "memory usage: 7.2+ KB\n"
     ]
    }
   ],
   "source": [
    "df.info()"
   ]
  },
  {
   "cell_type": "markdown",
   "id": "a967c04d",
   "metadata": {},
   "source": [
    "### 4.8 Descrição Estatística dos Dados\n",
    "\n",
    "Descrição dos dados apresenta informações estatísticas sobre os atributos do dataframe, incluindo: (i) total de registros; (ii) média; (iii) desvio padrão; (iv) valor mínimo; (v) primeiro quartil; (vi) segundo quartil; (vii) terceiro quartil; e (viii) valor máximo. Para isso, utilizamos o método:\n",
    "* df.describe()\n",
    "\n"
   ]
  },
  {
   "cell_type": "code",
   "execution_count": 24,
   "id": "c801e0e5",
   "metadata": {},
   "outputs": [
    {
     "data": {
      "text/html": [
       "<div>\n",
       "<style scoped>\n",
       "    .dataframe tbody tr th:only-of-type {\n",
       "        vertical-align: middle;\n",
       "    }\n",
       "\n",
       "    .dataframe tbody tr th {\n",
       "        vertical-align: top;\n",
       "    }\n",
       "\n",
       "    .dataframe thead th {\n",
       "        text-align: right;\n",
       "    }\n",
       "</style>\n",
       "<table border=\"1\" class=\"dataframe\">\n",
       "  <thead>\n",
       "    <tr style=\"text-align: right;\">\n",
       "      <th></th>\n",
       "      <th>count</th>\n",
       "      <th>mean</th>\n",
       "      <th>std</th>\n",
       "      <th>min</th>\n",
       "      <th>25%</th>\n",
       "      <th>50%</th>\n",
       "      <th>75%</th>\n",
       "      <th>max</th>\n",
       "    </tr>\n",
       "  </thead>\n",
       "  <tbody>\n",
       "    <tr>\n",
       "      <th>Id</th>\n",
       "      <td>150.0</td>\n",
       "      <td>75.500000</td>\n",
       "      <td>43.445368</td>\n",
       "      <td>1.0</td>\n",
       "      <td>38.25</td>\n",
       "      <td>75.5</td>\n",
       "      <td>112.75</td>\n",
       "      <td>150.0</td>\n",
       "    </tr>\n",
       "    <tr>\n",
       "      <th>SepalLengthCm</th>\n",
       "      <td>148.0</td>\n",
       "      <td>5.856757</td>\n",
       "      <td>0.825459</td>\n",
       "      <td>4.3</td>\n",
       "      <td>5.10</td>\n",
       "      <td>5.8</td>\n",
       "      <td>6.40</td>\n",
       "      <td>7.9</td>\n",
       "    </tr>\n",
       "    <tr>\n",
       "      <th>SepalWidthCm</th>\n",
       "      <td>149.0</td>\n",
       "      <td>3.054362</td>\n",
       "      <td>0.435034</td>\n",
       "      <td>2.0</td>\n",
       "      <td>2.80</td>\n",
       "      <td>3.0</td>\n",
       "      <td>3.30</td>\n",
       "      <td>4.4</td>\n",
       "    </tr>\n",
       "    <tr>\n",
       "      <th>PetalLengthCm</th>\n",
       "      <td>149.0</td>\n",
       "      <td>3.749664</td>\n",
       "      <td>1.766911</td>\n",
       "      <td>1.0</td>\n",
       "      <td>1.60</td>\n",
       "      <td>4.3</td>\n",
       "      <td>5.10</td>\n",
       "      <td>6.9</td>\n",
       "    </tr>\n",
       "    <tr>\n",
       "      <th>PetalWidthCm</th>\n",
       "      <td>150.0</td>\n",
       "      <td>1.198667</td>\n",
       "      <td>0.763161</td>\n",
       "      <td>0.1</td>\n",
       "      <td>0.30</td>\n",
       "      <td>1.3</td>\n",
       "      <td>1.80</td>\n",
       "      <td>2.5</td>\n",
       "    </tr>\n",
       "  </tbody>\n",
       "</table>\n",
       "</div>"
      ],
      "text/plain": [
       "               count       mean        std  min    25%   50%     75%    max\n",
       "Id             150.0  75.500000  43.445368  1.0  38.25  75.5  112.75  150.0\n",
       "SepalLengthCm  148.0   5.856757   0.825459  4.3   5.10   5.8    6.40    7.9\n",
       "SepalWidthCm   149.0   3.054362   0.435034  2.0   2.80   3.0    3.30    4.4\n",
       "PetalLengthCm  149.0   3.749664   1.766911  1.0   1.60   4.3    5.10    6.9\n",
       "PetalWidthCm   150.0   1.198667   0.763161  0.1   0.30   1.3    1.80    2.5"
      ]
     },
     "execution_count": 24,
     "metadata": {},
     "output_type": "execute_result"
    }
   ],
   "source": [
    "df.describe().T"
   ]
  },
  {
   "cell_type": "markdown",
   "id": "030115cf",
   "metadata": {},
   "source": [
    "### 4.9 Correlações de Atributos"
   ]
  },
  {
   "cell_type": "code",
   "execution_count": 25,
   "id": "0ff28c72",
   "metadata": {},
   "outputs": [
    {
     "data": {
      "text/html": [
       "<div>\n",
       "<style scoped>\n",
       "    .dataframe tbody tr th:only-of-type {\n",
       "        vertical-align: middle;\n",
       "    }\n",
       "\n",
       "    .dataframe tbody tr th {\n",
       "        vertical-align: top;\n",
       "    }\n",
       "\n",
       "    .dataframe thead th {\n",
       "        text-align: right;\n",
       "    }\n",
       "</style>\n",
       "<table border=\"1\" class=\"dataframe\">\n",
       "  <thead>\n",
       "    <tr style=\"text-align: right;\">\n",
       "      <th></th>\n",
       "      <th>Id</th>\n",
       "      <th>SepalLengthCm</th>\n",
       "      <th>SepalWidthCm</th>\n",
       "      <th>PetalLengthCm</th>\n",
       "      <th>PetalWidthCm</th>\n",
       "    </tr>\n",
       "  </thead>\n",
       "  <tbody>\n",
       "    <tr>\n",
       "      <th>Id</th>\n",
       "      <td>1.000000</td>\n",
       "      <td>0.711224</td>\n",
       "      <td>-0.403090</td>\n",
       "      <td>0.882971</td>\n",
       "      <td>0.899759</td>\n",
       "    </tr>\n",
       "    <tr>\n",
       "      <th>SepalLengthCm</th>\n",
       "      <td>0.711224</td>\n",
       "      <td>1.000000</td>\n",
       "      <td>-0.110203</td>\n",
       "      <td>0.868917</td>\n",
       "      <td>0.814053</td>\n",
       "    </tr>\n",
       "    <tr>\n",
       "      <th>SepalWidthCm</th>\n",
       "      <td>-0.403090</td>\n",
       "      <td>-0.110203</td>\n",
       "      <td>1.000000</td>\n",
       "      <td>-0.422543</td>\n",
       "      <td>-0.359751</td>\n",
       "    </tr>\n",
       "    <tr>\n",
       "      <th>PetalLengthCm</th>\n",
       "      <td>0.882971</td>\n",
       "      <td>0.868917</td>\n",
       "      <td>-0.422543</td>\n",
       "      <td>1.000000</td>\n",
       "      <td>0.963118</td>\n",
       "    </tr>\n",
       "    <tr>\n",
       "      <th>PetalWidthCm</th>\n",
       "      <td>0.899759</td>\n",
       "      <td>0.814053</td>\n",
       "      <td>-0.359751</td>\n",
       "      <td>0.963118</td>\n",
       "      <td>1.000000</td>\n",
       "    </tr>\n",
       "  </tbody>\n",
       "</table>\n",
       "</div>"
      ],
      "text/plain": [
       "                     Id  SepalLengthCm  SepalWidthCm  PetalLengthCm  \\\n",
       "Id             1.000000       0.711224     -0.403090       0.882971   \n",
       "SepalLengthCm  0.711224       1.000000     -0.110203       0.868917   \n",
       "SepalWidthCm  -0.403090      -0.110203      1.000000      -0.422543   \n",
       "PetalLengthCm  0.882971       0.868917     -0.422543       1.000000   \n",
       "PetalWidthCm   0.899759       0.814053     -0.359751       0.963118   \n",
       "\n",
       "               PetalWidthCm  \n",
       "Id                 0.899759  \n",
       "SepalLengthCm      0.814053  \n",
       "SepalWidthCm      -0.359751  \n",
       "PetalLengthCm      0.963118  \n",
       "PetalWidthCm       1.000000  "
      ]
     },
     "execution_count": 25,
     "metadata": {},
     "output_type": "execute_result"
    }
   ],
   "source": [
    "df.corr()"
   ]
  },
  {
   "cell_type": "markdown",
   "id": "b40c81fd",
   "metadata": {},
   "source": [
    "## 5. Identificando Valores Nulos\n",
    "\n",
    "É possivel identificar valores nulos utilizando diferentes abordagens com o pandas. Exemplo delas são:\n",
    "* df.isna()\n",
    "* df.isnull()"
   ]
  },
  {
   "cell_type": "code",
   "execution_count": 26,
   "id": "455faf7e",
   "metadata": {},
   "outputs": [
    {
     "data": {
      "text/html": [
       "<div>\n",
       "<style scoped>\n",
       "    .dataframe tbody tr th:only-of-type {\n",
       "        vertical-align: middle;\n",
       "    }\n",
       "\n",
       "    .dataframe tbody tr th {\n",
       "        vertical-align: top;\n",
       "    }\n",
       "\n",
       "    .dataframe thead th {\n",
       "        text-align: right;\n",
       "    }\n",
       "</style>\n",
       "<table border=\"1\" class=\"dataframe\">\n",
       "  <thead>\n",
       "    <tr style=\"text-align: right;\">\n",
       "      <th></th>\n",
       "      <th>Id</th>\n",
       "      <th>SepalLengthCm</th>\n",
       "      <th>SepalWidthCm</th>\n",
       "      <th>PetalLengthCm</th>\n",
       "      <th>PetalWidthCm</th>\n",
       "      <th>Species</th>\n",
       "    </tr>\n",
       "  </thead>\n",
       "  <tbody>\n",
       "    <tr>\n",
       "      <th>0</th>\n",
       "      <td>1</td>\n",
       "      <td>5.1</td>\n",
       "      <td>3.5</td>\n",
       "      <td>1.4</td>\n",
       "      <td>0.2</td>\n",
       "      <td>setosa</td>\n",
       "    </tr>\n",
       "    <tr>\n",
       "      <th>1</th>\n",
       "      <td>2</td>\n",
       "      <td>4.9</td>\n",
       "      <td>NaN</td>\n",
       "      <td>1.4</td>\n",
       "      <td>0.2</td>\n",
       "      <td>setosa</td>\n",
       "    </tr>\n",
       "    <tr>\n",
       "      <th>2</th>\n",
       "      <td>3</td>\n",
       "      <td>4.7</td>\n",
       "      <td>3.2</td>\n",
       "      <td>1.3</td>\n",
       "      <td>0.2</td>\n",
       "      <td>setosa</td>\n",
       "    </tr>\n",
       "    <tr>\n",
       "      <th>3</th>\n",
       "      <td>4</td>\n",
       "      <td>4.6</td>\n",
       "      <td>3.1</td>\n",
       "      <td>1.5</td>\n",
       "      <td>0.2</td>\n",
       "      <td>setosa</td>\n",
       "    </tr>\n",
       "    <tr>\n",
       "      <th>4</th>\n",
       "      <td>5</td>\n",
       "      <td>5.0</td>\n",
       "      <td>3.6</td>\n",
       "      <td>1.4</td>\n",
       "      <td>0.2</td>\n",
       "      <td>setosa</td>\n",
       "    </tr>\n",
       "    <tr>\n",
       "      <th>...</th>\n",
       "      <td>...</td>\n",
       "      <td>...</td>\n",
       "      <td>...</td>\n",
       "      <td>...</td>\n",
       "      <td>...</td>\n",
       "      <td>...</td>\n",
       "    </tr>\n",
       "    <tr>\n",
       "      <th>145</th>\n",
       "      <td>146</td>\n",
       "      <td>6.7</td>\n",
       "      <td>3.0</td>\n",
       "      <td>5.2</td>\n",
       "      <td>2.3</td>\n",
       "      <td>virginica</td>\n",
       "    </tr>\n",
       "    <tr>\n",
       "      <th>146</th>\n",
       "      <td>147</td>\n",
       "      <td>6.3</td>\n",
       "      <td>2.5</td>\n",
       "      <td>5.0</td>\n",
       "      <td>1.9</td>\n",
       "      <td>virginica</td>\n",
       "    </tr>\n",
       "    <tr>\n",
       "      <th>147</th>\n",
       "      <td>148</td>\n",
       "      <td>6.5</td>\n",
       "      <td>3.0</td>\n",
       "      <td>5.2</td>\n",
       "      <td>2.0</td>\n",
       "      <td>virginica</td>\n",
       "    </tr>\n",
       "    <tr>\n",
       "      <th>148</th>\n",
       "      <td>149</td>\n",
       "      <td>6.2</td>\n",
       "      <td>3.4</td>\n",
       "      <td>5.4</td>\n",
       "      <td>2.3</td>\n",
       "      <td>virginica</td>\n",
       "    </tr>\n",
       "    <tr>\n",
       "      <th>149</th>\n",
       "      <td>150</td>\n",
       "      <td>5.9</td>\n",
       "      <td>3.0</td>\n",
       "      <td>5.1</td>\n",
       "      <td>1.8</td>\n",
       "      <td>virginica</td>\n",
       "    </tr>\n",
       "  </tbody>\n",
       "</table>\n",
       "<p>150 rows × 6 columns</p>\n",
       "</div>"
      ],
      "text/plain": [
       "      Id  SepalLengthCm  SepalWidthCm  PetalLengthCm  PetalWidthCm    Species\n",
       "0      1            5.1           3.5            1.4           0.2     setosa\n",
       "1      2            4.9           NaN            1.4           0.2     setosa\n",
       "2      3            4.7           3.2            1.3           0.2     setosa\n",
       "3      4            4.6           3.1            1.5           0.2     setosa\n",
       "4      5            5.0           3.6            1.4           0.2     setosa\n",
       "..   ...            ...           ...            ...           ...        ...\n",
       "145  146            6.7           3.0            5.2           2.3  virginica\n",
       "146  147            6.3           2.5            5.0           1.9  virginica\n",
       "147  148            6.5           3.0            5.2           2.0  virginica\n",
       "148  149            6.2           3.4            5.4           2.3  virginica\n",
       "149  150            5.9           3.0            5.1           1.8  virginica\n",
       "\n",
       "[150 rows x 6 columns]"
      ]
     },
     "execution_count": 26,
     "metadata": {},
     "output_type": "execute_result"
    }
   ],
   "source": [
    "df"
   ]
  },
  {
   "cell_type": "markdown",
   "id": "aba4cdba",
   "metadata": {},
   "source": [
    "### 5.1 df.isna()\n",
    "\n",
    "retorna um dataframe com valores True e False para todos os dados do dataframe. Para os valores que não são nulos, este dataframe é preenchido com False, caso contrário o dataframe é preenchido para True (apenas onde os valores são nulos)"
   ]
  },
  {
   "cell_type": "code",
   "execution_count": 27,
   "id": "ef8152df",
   "metadata": {},
   "outputs": [
    {
     "data": {
      "text/html": [
       "<div>\n",
       "<style scoped>\n",
       "    .dataframe tbody tr th:only-of-type {\n",
       "        vertical-align: middle;\n",
       "    }\n",
       "\n",
       "    .dataframe tbody tr th {\n",
       "        vertical-align: top;\n",
       "    }\n",
       "\n",
       "    .dataframe thead th {\n",
       "        text-align: right;\n",
       "    }\n",
       "</style>\n",
       "<table border=\"1\" class=\"dataframe\">\n",
       "  <thead>\n",
       "    <tr style=\"text-align: right;\">\n",
       "      <th></th>\n",
       "      <th>Id</th>\n",
       "      <th>SepalLengthCm</th>\n",
       "      <th>SepalWidthCm</th>\n",
       "      <th>PetalLengthCm</th>\n",
       "      <th>PetalWidthCm</th>\n",
       "      <th>Species</th>\n",
       "    </tr>\n",
       "  </thead>\n",
       "  <tbody>\n",
       "    <tr>\n",
       "      <th>0</th>\n",
       "      <td>False</td>\n",
       "      <td>False</td>\n",
       "      <td>False</td>\n",
       "      <td>False</td>\n",
       "      <td>False</td>\n",
       "      <td>False</td>\n",
       "    </tr>\n",
       "    <tr>\n",
       "      <th>1</th>\n",
       "      <td>False</td>\n",
       "      <td>False</td>\n",
       "      <td>True</td>\n",
       "      <td>False</td>\n",
       "      <td>False</td>\n",
       "      <td>False</td>\n",
       "    </tr>\n",
       "    <tr>\n",
       "      <th>2</th>\n",
       "      <td>False</td>\n",
       "      <td>False</td>\n",
       "      <td>False</td>\n",
       "      <td>False</td>\n",
       "      <td>False</td>\n",
       "      <td>False</td>\n",
       "    </tr>\n",
       "    <tr>\n",
       "      <th>3</th>\n",
       "      <td>False</td>\n",
       "      <td>False</td>\n",
       "      <td>False</td>\n",
       "      <td>False</td>\n",
       "      <td>False</td>\n",
       "      <td>False</td>\n",
       "    </tr>\n",
       "    <tr>\n",
       "      <th>4</th>\n",
       "      <td>False</td>\n",
       "      <td>False</td>\n",
       "      <td>False</td>\n",
       "      <td>False</td>\n",
       "      <td>False</td>\n",
       "      <td>False</td>\n",
       "    </tr>\n",
       "    <tr>\n",
       "      <th>...</th>\n",
       "      <td>...</td>\n",
       "      <td>...</td>\n",
       "      <td>...</td>\n",
       "      <td>...</td>\n",
       "      <td>...</td>\n",
       "      <td>...</td>\n",
       "    </tr>\n",
       "    <tr>\n",
       "      <th>145</th>\n",
       "      <td>False</td>\n",
       "      <td>False</td>\n",
       "      <td>False</td>\n",
       "      <td>False</td>\n",
       "      <td>False</td>\n",
       "      <td>False</td>\n",
       "    </tr>\n",
       "    <tr>\n",
       "      <th>146</th>\n",
       "      <td>False</td>\n",
       "      <td>False</td>\n",
       "      <td>False</td>\n",
       "      <td>False</td>\n",
       "      <td>False</td>\n",
       "      <td>False</td>\n",
       "    </tr>\n",
       "    <tr>\n",
       "      <th>147</th>\n",
       "      <td>False</td>\n",
       "      <td>False</td>\n",
       "      <td>False</td>\n",
       "      <td>False</td>\n",
       "      <td>False</td>\n",
       "      <td>False</td>\n",
       "    </tr>\n",
       "    <tr>\n",
       "      <th>148</th>\n",
       "      <td>False</td>\n",
       "      <td>False</td>\n",
       "      <td>False</td>\n",
       "      <td>False</td>\n",
       "      <td>False</td>\n",
       "      <td>False</td>\n",
       "    </tr>\n",
       "    <tr>\n",
       "      <th>149</th>\n",
       "      <td>False</td>\n",
       "      <td>False</td>\n",
       "      <td>False</td>\n",
       "      <td>False</td>\n",
       "      <td>False</td>\n",
       "      <td>False</td>\n",
       "    </tr>\n",
       "  </tbody>\n",
       "</table>\n",
       "<p>150 rows × 6 columns</p>\n",
       "</div>"
      ],
      "text/plain": [
       "        Id  SepalLengthCm  SepalWidthCm  PetalLengthCm  PetalWidthCm  Species\n",
       "0    False          False         False          False         False    False\n",
       "1    False          False          True          False         False    False\n",
       "2    False          False         False          False         False    False\n",
       "3    False          False         False          False         False    False\n",
       "4    False          False         False          False         False    False\n",
       "..     ...            ...           ...            ...           ...      ...\n",
       "145  False          False         False          False         False    False\n",
       "146  False          False         False          False         False    False\n",
       "147  False          False         False          False         False    False\n",
       "148  False          False         False          False         False    False\n",
       "149  False          False         False          False         False    False\n",
       "\n",
       "[150 rows x 6 columns]"
      ]
     },
     "execution_count": 27,
     "metadata": {},
     "output_type": "execute_result"
    }
   ],
   "source": [
    "df.isna()"
   ]
  },
  {
   "cell_type": "markdown",
   "id": "528d601a",
   "metadata": {},
   "source": [
    "### 5.2 df.isnull().sum()\n",
    "\n",
    "Retorna um resumo dos atributos com a quantidade de valores nulos em cada atributo"
   ]
  },
  {
   "cell_type": "code",
   "execution_count": 28,
   "id": "e2d5965c",
   "metadata": {},
   "outputs": [
    {
     "data": {
      "text/plain": [
       "Id               0\n",
       "SepalLengthCm    2\n",
       "SepalWidthCm     1\n",
       "PetalLengthCm    1\n",
       "PetalWidthCm     0\n",
       "Species          1\n",
       "dtype: int64"
      ]
     },
     "execution_count": 28,
     "metadata": {},
     "output_type": "execute_result"
    }
   ],
   "source": [
    "df.isnull().sum()"
   ]
  },
  {
   "cell_type": "markdown",
   "id": "5c5f3e8c",
   "metadata": {},
   "source": [
    "### 5.3 Preenchendo Valores Nulos\n",
    "\n",
    "Podemos preencher valores nulos com algum valor pré-definido. Isto é útil durante o processamento dos dados. Uma das abordagens mais comum quando existem valores nulos é o prenchimento com a média dos valores daquele atributo. Portanto, podemos preencher esses valores usando:\n",
    "* df['atributo'].fillna(valor, inplace)\n",
    "    * valor: representa o valor a ser substituido pelo valor nulo\n",
    "    * inplace: {True, False} realiza a alteração no dataframe original"
   ]
  },
  {
   "cell_type": "code",
   "execution_count": 44,
   "id": "4083c846",
   "metadata": {},
   "outputs": [
    {
     "name": "stdout",
     "output_type": "stream",
     "text": [
      "3.0543624161073835\n"
     ]
    },
    {
     "data": {
      "text/html": [
       "<div>\n",
       "<style scoped>\n",
       "    .dataframe tbody tr th:only-of-type {\n",
       "        vertical-align: middle;\n",
       "    }\n",
       "\n",
       "    .dataframe tbody tr th {\n",
       "        vertical-align: top;\n",
       "    }\n",
       "\n",
       "    .dataframe thead th {\n",
       "        text-align: right;\n",
       "    }\n",
       "</style>\n",
       "<table border=\"1\" class=\"dataframe\">\n",
       "  <thead>\n",
       "    <tr style=\"text-align: right;\">\n",
       "      <th></th>\n",
       "      <th>Id</th>\n",
       "      <th>SepalLengthCm</th>\n",
       "      <th>SepalWidthCm</th>\n",
       "      <th>PetalLengthCm</th>\n",
       "      <th>PetalWidthCm</th>\n",
       "      <th>Species</th>\n",
       "    </tr>\n",
       "  </thead>\n",
       "  <tbody>\n",
       "    <tr>\n",
       "      <th>0</th>\n",
       "      <td>1</td>\n",
       "      <td>5.1</td>\n",
       "      <td>3.500000</td>\n",
       "      <td>1.4</td>\n",
       "      <td>0.2</td>\n",
       "      <td>setosa</td>\n",
       "    </tr>\n",
       "    <tr>\n",
       "      <th>1</th>\n",
       "      <td>2</td>\n",
       "      <td>4.9</td>\n",
       "      <td>3.054362</td>\n",
       "      <td>1.4</td>\n",
       "      <td>0.2</td>\n",
       "      <td>setosa</td>\n",
       "    </tr>\n",
       "    <tr>\n",
       "      <th>2</th>\n",
       "      <td>3</td>\n",
       "      <td>4.7</td>\n",
       "      <td>3.200000</td>\n",
       "      <td>1.3</td>\n",
       "      <td>0.2</td>\n",
       "      <td>setosa</td>\n",
       "    </tr>\n",
       "    <tr>\n",
       "      <th>3</th>\n",
       "      <td>4</td>\n",
       "      <td>4.6</td>\n",
       "      <td>3.100000</td>\n",
       "      <td>1.5</td>\n",
       "      <td>0.2</td>\n",
       "      <td>setosa</td>\n",
       "    </tr>\n",
       "    <tr>\n",
       "      <th>4</th>\n",
       "      <td>5</td>\n",
       "      <td>5.0</td>\n",
       "      <td>3.600000</td>\n",
       "      <td>1.4</td>\n",
       "      <td>0.2</td>\n",
       "      <td>setosa</td>\n",
       "    </tr>\n",
       "    <tr>\n",
       "      <th>...</th>\n",
       "      <td>...</td>\n",
       "      <td>...</td>\n",
       "      <td>...</td>\n",
       "      <td>...</td>\n",
       "      <td>...</td>\n",
       "      <td>...</td>\n",
       "    </tr>\n",
       "    <tr>\n",
       "      <th>145</th>\n",
       "      <td>146</td>\n",
       "      <td>6.7</td>\n",
       "      <td>3.000000</td>\n",
       "      <td>5.2</td>\n",
       "      <td>2.3</td>\n",
       "      <td>virginica</td>\n",
       "    </tr>\n",
       "    <tr>\n",
       "      <th>146</th>\n",
       "      <td>147</td>\n",
       "      <td>6.3</td>\n",
       "      <td>2.500000</td>\n",
       "      <td>5.0</td>\n",
       "      <td>1.9</td>\n",
       "      <td>virginica</td>\n",
       "    </tr>\n",
       "    <tr>\n",
       "      <th>147</th>\n",
       "      <td>148</td>\n",
       "      <td>6.5</td>\n",
       "      <td>3.000000</td>\n",
       "      <td>5.2</td>\n",
       "      <td>2.0</td>\n",
       "      <td>virginica</td>\n",
       "    </tr>\n",
       "    <tr>\n",
       "      <th>148</th>\n",
       "      <td>149</td>\n",
       "      <td>6.2</td>\n",
       "      <td>3.400000</td>\n",
       "      <td>5.4</td>\n",
       "      <td>2.3</td>\n",
       "      <td>virginica</td>\n",
       "    </tr>\n",
       "    <tr>\n",
       "      <th>149</th>\n",
       "      <td>150</td>\n",
       "      <td>5.9</td>\n",
       "      <td>3.000000</td>\n",
       "      <td>5.1</td>\n",
       "      <td>1.8</td>\n",
       "      <td>virginica</td>\n",
       "    </tr>\n",
       "  </tbody>\n",
       "</table>\n",
       "<p>150 rows × 6 columns</p>\n",
       "</div>"
      ],
      "text/plain": [
       "      Id  SepalLengthCm  SepalWidthCm  PetalLengthCm  PetalWidthCm    Species\n",
       "0      1            5.1      3.500000            1.4           0.2     setosa\n",
       "1      2            4.9      3.054362            1.4           0.2     setosa\n",
       "2      3            4.7      3.200000            1.3           0.2     setosa\n",
       "3      4            4.6      3.100000            1.5           0.2     setosa\n",
       "4      5            5.0      3.600000            1.4           0.2     setosa\n",
       "..   ...            ...           ...            ...           ...        ...\n",
       "145  146            6.7      3.000000            5.2           2.3  virginica\n",
       "146  147            6.3      2.500000            5.0           1.9  virginica\n",
       "147  148            6.5      3.000000            5.2           2.0  virginica\n",
       "148  149            6.2      3.400000            5.4           2.3  virginica\n",
       "149  150            5.9      3.000000            5.1           1.8  virginica\n",
       "\n",
       "[150 rows x 6 columns]"
      ]
     },
     "execution_count": 44,
     "metadata": {},
     "output_type": "execute_result"
    }
   ],
   "source": [
    "media = df['SepalWidthCm'].mean()\n",
    "df['SepalWidthCm'].fillna(media, inplace=True)\n",
    "print(media)\n",
    "df"
   ]
  },
  {
   "cell_type": "markdown",
   "id": "4c4e0bc5",
   "metadata": {},
   "source": [
    "### 5.2 Removendo Valores Nulos\n",
    "\n",
    "Para remover os valores nulos utilizamos o método:\n",
    "* df.dropna(inplace)\n",
    "    * inplace: {True, False} realiza a alteração no dataframe original\n"
   ]
  },
  {
   "cell_type": "code",
   "execution_count": 45,
   "id": "35361707",
   "metadata": {},
   "outputs": [],
   "source": [
    "df.dropna(inplace=True)"
   ]
  },
  {
   "cell_type": "code",
   "execution_count": 46,
   "id": "0f6d35df",
   "metadata": {},
   "outputs": [
    {
     "data": {
      "text/plain": [
       "Id               0\n",
       "SepalLengthCm    0\n",
       "SepalWidthCm     0\n",
       "PetalLengthCm    0\n",
       "PetalWidthCm     0\n",
       "Species          0\n",
       "dtype: int64"
      ]
     },
     "execution_count": 46,
     "metadata": {},
     "output_type": "execute_result"
    }
   ],
   "source": [
    "df.isnull().sum()"
   ]
  },
  {
   "cell_type": "markdown",
   "id": "r1kLZtXRo5qH",
   "metadata": {
    "id": "r1kLZtXRo5qH"
   },
   "source": [
    "# 6. Operações Aritiméticas com os dados\n",
    "\n",
    "Operações de agregação podem ser executadas diretamente do DataFrame, para calcular métricas de um atributo específico. Essas operações incluem:\n",
    "\n",
    "* df['atributo'].mean(): retorna a médida dos valores do atributo\n",
    "* df['atributo'].sum(): retorna a soma dos valores do atributo\n",
    "* df['atributo'].std(): retorna o desvio padrão dos valores do atributo\n",
    "* df['atributo'].min(): retorna o valor mínimo do atributo\n",
    "* df['atributo'].max(): retorna o valor mínimo do atributo"
   ]
  },
  {
   "cell_type": "code",
   "execution_count": 47,
   "id": "_WP3T1Dyo5qH",
   "metadata": {
    "id": "_WP3T1Dyo5qH",
    "outputId": "e4e438f2-982b-4d02-98fd-aef6cf7155ad"
   },
   "outputs": [
    {
     "name": "stdout",
     "output_type": "stream",
     "text": [
      "media: 5.852739726027399, soma: 854.5, minimo:4.3, maximo:7.9\n"
     ]
    }
   ],
   "source": [
    "mean   = df['SepalLengthCm'].mean()\n",
    "soma   = df['SepalLengthCm'].sum()\n",
    "minimo = df['SepalLengthCm'].min()\n",
    "maximo = df['SepalLengthCm'].max()\n",
    "\n",
    "print(f'media: {mean}, soma: {soma}, minimo:{minimo}, maximo:{maximo}')"
   ]
  },
  {
   "cell_type": "markdown",
   "id": "wxVOUN9uo5qK",
   "metadata": {
    "id": "wxVOUN9uo5qK"
   },
   "source": [
    "## 7. Adicionando Colunas\n",
    "\n",
    "Para adicionar colunas ou atributos no DataFrame é preciso definir uma 'chave' que represente o nome do atributo e atribuir os dados para compor aquele atributo. Por exemplo, **df['novo atributo'] = dados**. Dessa forma, os dados podem ser:\n",
    "* Valor: o valor especificado é atribuido a todas as linhas do DataFrame para o novo atributo\n",
    "* Lista: precisa possuir o mesmo tamanho que a quantidade de linhas do DataFrame\n",
    "* ndarray: precisa possuir o mesmo tamanho que a quantidade de linhas do DataFrame\n",
    "* serie: pode ter tamanho inferior a quantidade de linhas do dataframe, nesse caso para as linhas excedentes do dataframe o valor NaN é atribuido \n"
   ]
  },
  {
   "cell_type": "code",
   "execution_count": 48,
   "id": "9oaKuPLWo5qK",
   "metadata": {
    "id": "9oaKuPLWo5qK",
    "outputId": "82134461-6c4b-45a9-b2f3-2abd9706fdd6"
   },
   "outputs": [
    {
     "data": {
      "text/html": [
       "<div>\n",
       "<style scoped>\n",
       "    .dataframe tbody tr th:only-of-type {\n",
       "        vertical-align: middle;\n",
       "    }\n",
       "\n",
       "    .dataframe tbody tr th {\n",
       "        vertical-align: top;\n",
       "    }\n",
       "\n",
       "    .dataframe thead th {\n",
       "        text-align: right;\n",
       "    }\n",
       "</style>\n",
       "<table border=\"1\" class=\"dataframe\">\n",
       "  <thead>\n",
       "    <tr style=\"text-align: right;\">\n",
       "      <th></th>\n",
       "      <th>Id</th>\n",
       "      <th>SepalLengthCm</th>\n",
       "      <th>SepalWidthCm</th>\n",
       "      <th>PetalLengthCm</th>\n",
       "      <th>PetalWidthCm</th>\n",
       "      <th>Species</th>\n",
       "      <th>teste</th>\n",
       "      <th>nprandom</th>\n",
       "      <th>series_</th>\n",
       "    </tr>\n",
       "  </thead>\n",
       "  <tbody>\n",
       "    <tr>\n",
       "      <th>0</th>\n",
       "      <td>1</td>\n",
       "      <td>5.1</td>\n",
       "      <td>3.500000</td>\n",
       "      <td>1.4</td>\n",
       "      <td>0.2</td>\n",
       "      <td>setosa</td>\n",
       "      <td>True</td>\n",
       "      <td>0.126424</td>\n",
       "      <td>0.674996</td>\n",
       "    </tr>\n",
       "    <tr>\n",
       "      <th>1</th>\n",
       "      <td>2</td>\n",
       "      <td>4.9</td>\n",
       "      <td>3.054362</td>\n",
       "      <td>1.4</td>\n",
       "      <td>0.2</td>\n",
       "      <td>setosa</td>\n",
       "      <td>True</td>\n",
       "      <td>0.605875</td>\n",
       "      <td>0.055479</td>\n",
       "    </tr>\n",
       "    <tr>\n",
       "      <th>2</th>\n",
       "      <td>3</td>\n",
       "      <td>4.7</td>\n",
       "      <td>3.200000</td>\n",
       "      <td>1.3</td>\n",
       "      <td>0.2</td>\n",
       "      <td>setosa</td>\n",
       "      <td>True</td>\n",
       "      <td>0.221474</td>\n",
       "      <td>0.353682</td>\n",
       "    </tr>\n",
       "    <tr>\n",
       "      <th>3</th>\n",
       "      <td>4</td>\n",
       "      <td>4.6</td>\n",
       "      <td>3.100000</td>\n",
       "      <td>1.5</td>\n",
       "      <td>0.2</td>\n",
       "      <td>setosa</td>\n",
       "      <td>True</td>\n",
       "      <td>0.606187</td>\n",
       "      <td>0.127566</td>\n",
       "    </tr>\n",
       "    <tr>\n",
       "      <th>4</th>\n",
       "      <td>5</td>\n",
       "      <td>5.0</td>\n",
       "      <td>3.600000</td>\n",
       "      <td>1.4</td>\n",
       "      <td>0.2</td>\n",
       "      <td>setosa</td>\n",
       "      <td>True</td>\n",
       "      <td>0.080447</td>\n",
       "      <td>0.715026</td>\n",
       "    </tr>\n",
       "    <tr>\n",
       "      <th>...</th>\n",
       "      <td>...</td>\n",
       "      <td>...</td>\n",
       "      <td>...</td>\n",
       "      <td>...</td>\n",
       "      <td>...</td>\n",
       "      <td>...</td>\n",
       "      <td>...</td>\n",
       "      <td>...</td>\n",
       "      <td>...</td>\n",
       "    </tr>\n",
       "    <tr>\n",
       "      <th>145</th>\n",
       "      <td>146</td>\n",
       "      <td>6.7</td>\n",
       "      <td>3.000000</td>\n",
       "      <td>5.2</td>\n",
       "      <td>2.3</td>\n",
       "      <td>virginica</td>\n",
       "      <td>True</td>\n",
       "      <td>0.215538</td>\n",
       "      <td>NaN</td>\n",
       "    </tr>\n",
       "    <tr>\n",
       "      <th>146</th>\n",
       "      <td>147</td>\n",
       "      <td>6.3</td>\n",
       "      <td>2.500000</td>\n",
       "      <td>5.0</td>\n",
       "      <td>1.9</td>\n",
       "      <td>virginica</td>\n",
       "      <td>True</td>\n",
       "      <td>0.139786</td>\n",
       "      <td>NaN</td>\n",
       "    </tr>\n",
       "    <tr>\n",
       "      <th>147</th>\n",
       "      <td>148</td>\n",
       "      <td>6.5</td>\n",
       "      <td>3.000000</td>\n",
       "      <td>5.2</td>\n",
       "      <td>2.0</td>\n",
       "      <td>virginica</td>\n",
       "      <td>True</td>\n",
       "      <td>0.970136</td>\n",
       "      <td>NaN</td>\n",
       "    </tr>\n",
       "    <tr>\n",
       "      <th>148</th>\n",
       "      <td>149</td>\n",
       "      <td>6.2</td>\n",
       "      <td>3.400000</td>\n",
       "      <td>5.4</td>\n",
       "      <td>2.3</td>\n",
       "      <td>virginica</td>\n",
       "      <td>True</td>\n",
       "      <td>0.135500</td>\n",
       "      <td>NaN</td>\n",
       "    </tr>\n",
       "    <tr>\n",
       "      <th>149</th>\n",
       "      <td>150</td>\n",
       "      <td>5.9</td>\n",
       "      <td>3.000000</td>\n",
       "      <td>5.1</td>\n",
       "      <td>1.8</td>\n",
       "      <td>virginica</td>\n",
       "      <td>True</td>\n",
       "      <td>0.687505</td>\n",
       "      <td>NaN</td>\n",
       "    </tr>\n",
       "  </tbody>\n",
       "</table>\n",
       "<p>146 rows × 9 columns</p>\n",
       "</div>"
      ],
      "text/plain": [
       "      Id  SepalLengthCm  SepalWidthCm  PetalLengthCm  PetalWidthCm    Species  \\\n",
       "0      1            5.1      3.500000            1.4           0.2     setosa   \n",
       "1      2            4.9      3.054362            1.4           0.2     setosa   \n",
       "2      3            4.7      3.200000            1.3           0.2     setosa   \n",
       "3      4            4.6      3.100000            1.5           0.2     setosa   \n",
       "4      5            5.0      3.600000            1.4           0.2     setosa   \n",
       "..   ...            ...           ...            ...           ...        ...   \n",
       "145  146            6.7      3.000000            5.2           2.3  virginica   \n",
       "146  147            6.3      2.500000            5.0           1.9  virginica   \n",
       "147  148            6.5      3.000000            5.2           2.0  virginica   \n",
       "148  149            6.2      3.400000            5.4           2.3  virginica   \n",
       "149  150            5.9      3.000000            5.1           1.8  virginica   \n",
       "\n",
       "     teste  nprandom   series_  \n",
       "0     True  0.126424  0.674996  \n",
       "1     True  0.605875  0.055479  \n",
       "2     True  0.221474  0.353682  \n",
       "3     True  0.606187  0.127566  \n",
       "4     True  0.080447  0.715026  \n",
       "..     ...       ...       ...  \n",
       "145   True  0.215538       NaN  \n",
       "146   True  0.139786       NaN  \n",
       "147   True  0.970136       NaN  \n",
       "148   True  0.135500       NaN  \n",
       "149   True  0.687505       NaN  \n",
       "\n",
       "[146 rows x 9 columns]"
      ]
     },
     "execution_count": 48,
     "metadata": {},
     "output_type": "execute_result"
    }
   ],
   "source": [
    "#valores iguais\n",
    "df['teste']    = True\n",
    "#baseado em um ndarray\n",
    "df['nprandom'] = np.random.rand(146)\n",
    "#Baseado em um array com tamanho menor que o dataset\n",
    "df['series_']  = pd.Series(np.random.rand(100))\n",
    "df"
   ]
  },
  {
   "cell_type": "markdown",
   "id": "0cc164d0",
   "metadata": {},
   "source": [
    "## 8. Removendo Colunas\n",
    "\n",
    "Para remover colunas do dataframe utilizamos o método:\n",
    "* df.drop(atributo, axis, inplace)\n",
    "    * atributo: informa o nome da coluna a ser deletada\n",
    "    * axis: informa o eixo onde está o atributo (0 para linhas, 1 para colunas)\n",
    "    * inplace: {True, False}, aplica as alterações diretamente no dataframe original"
   ]
  },
  {
   "cell_type": "code",
   "execution_count": null,
   "id": "fe92caab",
   "metadata": {},
   "outputs": [],
   "source": [
    "df.drop('teste', axis=1, inplace=True)\n",
    "df"
   ]
  },
  {
   "cell_type": "markdown",
   "id": "fdd9415b",
   "metadata": {},
   "source": [
    "é possível passar uma lista com os atributos que desejamos deletar"
   ]
  },
  {
   "cell_type": "code",
   "execution_count": 49,
   "id": "fc06f978",
   "metadata": {},
   "outputs": [
    {
     "data": {
      "text/html": [
       "<div>\n",
       "<style scoped>\n",
       "    .dataframe tbody tr th:only-of-type {\n",
       "        vertical-align: middle;\n",
       "    }\n",
       "\n",
       "    .dataframe tbody tr th {\n",
       "        vertical-align: top;\n",
       "    }\n",
       "\n",
       "    .dataframe thead th {\n",
       "        text-align: right;\n",
       "    }\n",
       "</style>\n",
       "<table border=\"1\" class=\"dataframe\">\n",
       "  <thead>\n",
       "    <tr style=\"text-align: right;\">\n",
       "      <th></th>\n",
       "      <th>Id</th>\n",
       "      <th>SepalLengthCm</th>\n",
       "      <th>SepalWidthCm</th>\n",
       "      <th>PetalLengthCm</th>\n",
       "      <th>PetalWidthCm</th>\n",
       "      <th>Species</th>\n",
       "      <th>teste</th>\n",
       "    </tr>\n",
       "  </thead>\n",
       "  <tbody>\n",
       "    <tr>\n",
       "      <th>0</th>\n",
       "      <td>1</td>\n",
       "      <td>5.1</td>\n",
       "      <td>3.500000</td>\n",
       "      <td>1.4</td>\n",
       "      <td>0.2</td>\n",
       "      <td>setosa</td>\n",
       "      <td>True</td>\n",
       "    </tr>\n",
       "    <tr>\n",
       "      <th>1</th>\n",
       "      <td>2</td>\n",
       "      <td>4.9</td>\n",
       "      <td>3.054362</td>\n",
       "      <td>1.4</td>\n",
       "      <td>0.2</td>\n",
       "      <td>setosa</td>\n",
       "      <td>True</td>\n",
       "    </tr>\n",
       "    <tr>\n",
       "      <th>2</th>\n",
       "      <td>3</td>\n",
       "      <td>4.7</td>\n",
       "      <td>3.200000</td>\n",
       "      <td>1.3</td>\n",
       "      <td>0.2</td>\n",
       "      <td>setosa</td>\n",
       "      <td>True</td>\n",
       "    </tr>\n",
       "    <tr>\n",
       "      <th>3</th>\n",
       "      <td>4</td>\n",
       "      <td>4.6</td>\n",
       "      <td>3.100000</td>\n",
       "      <td>1.5</td>\n",
       "      <td>0.2</td>\n",
       "      <td>setosa</td>\n",
       "      <td>True</td>\n",
       "    </tr>\n",
       "    <tr>\n",
       "      <th>4</th>\n",
       "      <td>5</td>\n",
       "      <td>5.0</td>\n",
       "      <td>3.600000</td>\n",
       "      <td>1.4</td>\n",
       "      <td>0.2</td>\n",
       "      <td>setosa</td>\n",
       "      <td>True</td>\n",
       "    </tr>\n",
       "    <tr>\n",
       "      <th>...</th>\n",
       "      <td>...</td>\n",
       "      <td>...</td>\n",
       "      <td>...</td>\n",
       "      <td>...</td>\n",
       "      <td>...</td>\n",
       "      <td>...</td>\n",
       "      <td>...</td>\n",
       "    </tr>\n",
       "    <tr>\n",
       "      <th>145</th>\n",
       "      <td>146</td>\n",
       "      <td>6.7</td>\n",
       "      <td>3.000000</td>\n",
       "      <td>5.2</td>\n",
       "      <td>2.3</td>\n",
       "      <td>virginica</td>\n",
       "      <td>True</td>\n",
       "    </tr>\n",
       "    <tr>\n",
       "      <th>146</th>\n",
       "      <td>147</td>\n",
       "      <td>6.3</td>\n",
       "      <td>2.500000</td>\n",
       "      <td>5.0</td>\n",
       "      <td>1.9</td>\n",
       "      <td>virginica</td>\n",
       "      <td>True</td>\n",
       "    </tr>\n",
       "    <tr>\n",
       "      <th>147</th>\n",
       "      <td>148</td>\n",
       "      <td>6.5</td>\n",
       "      <td>3.000000</td>\n",
       "      <td>5.2</td>\n",
       "      <td>2.0</td>\n",
       "      <td>virginica</td>\n",
       "      <td>True</td>\n",
       "    </tr>\n",
       "    <tr>\n",
       "      <th>148</th>\n",
       "      <td>149</td>\n",
       "      <td>6.2</td>\n",
       "      <td>3.400000</td>\n",
       "      <td>5.4</td>\n",
       "      <td>2.3</td>\n",
       "      <td>virginica</td>\n",
       "      <td>True</td>\n",
       "    </tr>\n",
       "    <tr>\n",
       "      <th>149</th>\n",
       "      <td>150</td>\n",
       "      <td>5.9</td>\n",
       "      <td>3.000000</td>\n",
       "      <td>5.1</td>\n",
       "      <td>1.8</td>\n",
       "      <td>virginica</td>\n",
       "      <td>True</td>\n",
       "    </tr>\n",
       "  </tbody>\n",
       "</table>\n",
       "<p>146 rows × 7 columns</p>\n",
       "</div>"
      ],
      "text/plain": [
       "      Id  SepalLengthCm  SepalWidthCm  PetalLengthCm  PetalWidthCm    Species  \\\n",
       "0      1            5.1      3.500000            1.4           0.2     setosa   \n",
       "1      2            4.9      3.054362            1.4           0.2     setosa   \n",
       "2      3            4.7      3.200000            1.3           0.2     setosa   \n",
       "3      4            4.6      3.100000            1.5           0.2     setosa   \n",
       "4      5            5.0      3.600000            1.4           0.2     setosa   \n",
       "..   ...            ...           ...            ...           ...        ...   \n",
       "145  146            6.7      3.000000            5.2           2.3  virginica   \n",
       "146  147            6.3      2.500000            5.0           1.9  virginica   \n",
       "147  148            6.5      3.000000            5.2           2.0  virginica   \n",
       "148  149            6.2      3.400000            5.4           2.3  virginica   \n",
       "149  150            5.9      3.000000            5.1           1.8  virginica   \n",
       "\n",
       "     teste  \n",
       "0     True  \n",
       "1     True  \n",
       "2     True  \n",
       "3     True  \n",
       "4     True  \n",
       "..     ...  \n",
       "145   True  \n",
       "146   True  \n",
       "147   True  \n",
       "148   True  \n",
       "149   True  \n",
       "\n",
       "[146 rows x 7 columns]"
      ]
     },
     "execution_count": 49,
     "metadata": {},
     "output_type": "execute_result"
    }
   ],
   "source": [
    "df.drop(['nprandom', 'series_'], axis=1, inplace=True)\n",
    "df"
   ]
  },
  {
   "cell_type": "markdown",
   "id": "Myd50jXAo5qK",
   "metadata": {
    "id": "Myd50jXAo5qK"
   },
   "source": [
    "## 9. Filtrando Dados\n"
   ]
  },
  {
   "cell_type": "code",
   "execution_count": 50,
   "id": "jyCO3AqCo5qK",
   "metadata": {
    "id": "jyCO3AqCo5qK",
    "outputId": "affdcf5c-8684-4419-c963-8bdd55bbd4f9"
   },
   "outputs": [
    {
     "data": {
      "text/plain": [
       "0      False\n",
       "1      False\n",
       "2      False\n",
       "3      False\n",
       "4      False\n",
       "       ...  \n",
       "145     True\n",
       "146     True\n",
       "147     True\n",
       "148     True\n",
       "149     True\n",
       "Name: PetalLengthCm, Length: 146, dtype: bool"
      ]
     },
     "execution_count": 50,
     "metadata": {},
     "output_type": "execute_result"
    }
   ],
   "source": [
    "resultado = df['PetalLengthCm'] > 3\n",
    "resultado"
   ]
  },
  {
   "cell_type": "markdown",
   "id": "-8vLDnJio5qK",
   "metadata": {
    "id": "-8vLDnJio5qK"
   },
   "source": [
    "Mostrando dados filtrados"
   ]
  },
  {
   "cell_type": "code",
   "execution_count": null,
   "id": "nV9Huyd1o5qK",
   "metadata": {
    "id": "nV9Huyd1o5qK",
    "outputId": "57bc89a2-4409-4bc4-b4fd-97850b8c76fc"
   },
   "outputs": [],
   "source": [
    "df[resultado]"
   ]
  },
  {
   "cell_type": "markdown",
   "id": "old-y72ro5qL",
   "metadata": {
    "id": "old-y72ro5qL"
   },
   "source": [
    "## 10. Fracionando dados\n",
    "\n",
    "Fracionar os dados permite utilizar apenas uma porcentagem dos dados. Este fracionamento é útil para realizar testes iniciais nos dados quando temos datasets muito grandes onde o processamento é custo. Assim, podemos utilizar uma fração pequena dos dados para testar os modelos desenvolvidos, em seguida, após a validação dos teste o modelo pode ser aplicado no conjuto total de dados. Um exemplo de fracionamento é apresentado a seguir:\n",
    "* df.sample(frac)\n",
    "    * frac: fração do dataframe que deseja ser retornada"
   ]
  },
  {
   "cell_type": "code",
   "execution_count": null,
   "id": "81ih3Ijlo5qL",
   "metadata": {
    "id": "81ih3Ijlo5qL",
    "outputId": "2afc044d-6203-45c2-e5ba-95f27bd0b952"
   },
   "outputs": [],
   "source": [
    "#retorna 20% dos dados aleatóriamente\n",
    "df.sample(frac=0.2)"
   ]
  },
  {
   "cell_type": "markdown",
   "id": "82eaf600",
   "metadata": {},
   "source": [
    "## 11. Função apply()\n",
    "\n",
    "A função apply() é utilizada para aplicar uma funções sobre alguma coluna do DataFrame. Esse tipo de função pode ser útil no processamento dos dados ou até para criar novos atributos para o dataset baseado em um atributo de referência."
   ]
  },
  {
   "cell_type": "code",
   "execution_count": null,
   "id": "suDVuqWQo5qL",
   "metadata": {
    "id": "suDVuqWQo5qL"
   },
   "outputs": [],
   "source": [
    "df['atibuto novo'] = df['PetalLengthCm'].apply(lambda x: x**2)\n",
    "df"
   ]
  },
  {
   "cell_type": "code",
   "execution_count": null,
   "id": "85725cf9",
   "metadata": {},
   "outputs": [],
   "source": [
    "def soma_1(x):\n",
    "    return x + 1"
   ]
  },
  {
   "cell_type": "code",
   "execution_count": null,
   "id": "7e19c270",
   "metadata": {},
   "outputs": [],
   "source": [
    "df['atibuto novo'] = df['PetalLengthCm'].apply(soma_1)\n",
    "df"
   ]
  },
  {
   "cell_type": "markdown",
   "id": "2cc7aa6b",
   "metadata": {},
   "source": [
    "## 12. Exportando Dataset\n",
    "\n",
    "Podemos salvar o dataset após as modificações (i.e., por exemplo, após um préprocessamento onde foi removido valores nulos e novos atributos foram criados). Exportando o dataset para um novo arquivo evita que todo o processamento seja feito novamente durante o próximo uso dos dados. Dessa forma, podemos exportar os dados da seguinte forma"
   ]
  },
  {
   "cell_type": "code",
   "execution_count": null,
   "id": "1d86bb31",
   "metadata": {},
   "outputs": [],
   "source": [
    "df.to_csv('dataset_iris_alterado.csv', index=False)"
   ]
  },
  {
   "cell_type": "code",
   "execution_count": null,
   "id": "4606f434",
   "metadata": {},
   "outputs": [],
   "source": [
    "#!dir para listar os arquivos da pasta\n",
    "!dir \n",
    "#!ls no linux"
   ]
  },
  {
   "cell_type": "code",
   "execution_count": null,
   "id": "635cf448",
   "metadata": {},
   "outputs": [],
   "source": [
    "df = pd.read_csv('dataset_iris_alterado.csv')\n",
    "df"
   ]
  },
  {
   "cell_type": "code",
   "execution_count": null,
   "id": "e329dbf5",
   "metadata": {},
   "outputs": [],
   "source": []
  }
 ],
 "metadata": {
  "colab": {
   "provenance": []
  },
  "kernelspec": {
   "display_name": "Python 3 (ipykernel)",
   "language": "python",
   "name": "python3"
  },
  "language_info": {
   "codemirror_mode": {
    "name": "ipython",
    "version": 3
   },
   "file_extension": ".py",
   "mimetype": "text/x-python",
   "name": "python",
   "nbconvert_exporter": "python",
   "pygments_lexer": "ipython3",
   "version": "3.10.4"
  }
 },
 "nbformat": 4,
 "nbformat_minor": 5
}
