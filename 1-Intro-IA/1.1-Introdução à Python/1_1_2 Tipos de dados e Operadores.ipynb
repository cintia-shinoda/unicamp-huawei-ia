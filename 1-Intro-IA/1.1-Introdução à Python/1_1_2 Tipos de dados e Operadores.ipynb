{
 "cells": [
  {
   "cell_type": "markdown",
   "metadata": {},
   "source": [
    "# 2. Tipos de dados\n",
    "\n",
    "Python suporta diferentes tipos de dados, os quais serão apresentados a seguir"
   ]
  },
  {
   "cell_type": "markdown",
   "metadata": {},
   "source": [
    "## 2.1 Numérico: int, float, complex\n",
    "\n",
    "Para o tipo numérico, Python suport inteiros, ponto-futuante, e números complexos.\n",
    "* Inteiros: são valores que não representam casas decimais e podem ser de qualquer tamanho\n",
    "* Float: são números que representam valores decimais com precisão até a 15 casa (a 16 case não é precisa)\n",
    "* Complexo: são números contruídos na forma **x + yj**, onde x é a parte real e y é a parte imaginária"
   ]
  },
  {
   "cell_type": "code",
   "execution_count": 32,
   "metadata": {},
   "outputs": [
    {
     "name": "stdout",
     "output_type": "stream",
     "text": [
      "<class 'int'>\n"
     ]
    }
   ],
   "source": [
    "a = 5\n",
    "print(type(5))"
   ]
  },
  {
   "cell_type": "code",
   "execution_count": 36,
   "metadata": {},
   "outputs": [
    {
     "name": "stdout",
     "output_type": "stream",
     "text": [
      "<class 'float'>\n"
     ]
    }
   ],
   "source": [
    "a = 5.5\n",
    "print(type(a))"
   ]
  },
  {
   "cell_type": "code",
   "execution_count": 38,
   "metadata": {},
   "outputs": [
    {
     "name": "stdout",
     "output_type": "stream",
     "text": [
      "(11+6j)\n",
      "<class 'complex'>\n"
     ]
    }
   ],
   "source": [
    "a = 5 + 6j\n",
    "print(a + 6)\n",
    "print(type(a))"
   ]
  },
  {
   "cell_type": "markdown",
   "metadata": {},
   "source": [
    "## 2.2 Texto: string\n",
    "\n",
    "Em Python, uma string é uma sequencia de caracteres *Unicode*, a qual inclui todos os caracteres em todas as linguas para permitir uma codificação uniform.\n",
    "\n",
    "Strings são criadas incluindo um texto entre aspas simples ('') ou aspas duplas (\"\")"
   ]
  },
  {
   "cell_type": "code",
   "execution_count": 39,
   "metadata": {},
   "outputs": [
    {
     "name": "stdout",
     "output_type": "stream",
     "text": [
      "esta é uma string <class 'str'>\n",
      "esta é outra string <class 'str'>\n"
     ]
    }
   ],
   "source": [
    "s1 = 'esta é uma string'\n",
    "s2 = \"esta é outra string\"\n",
    "print(s1, type(s1))\n",
    "print(s2, type(s2))"
   ]
  },
  {
   "cell_type": "markdown",
   "metadata": {},
   "source": [
    "### 2.2.1 Concatenando string\n",
    "\n",
    "concatenação é utilizada para juntar strings. Para isso, podemos utilizar o opendando +"
   ]
  },
  {
   "cell_type": "code",
   "execution_count": 40,
   "metadata": {},
   "outputs": [
    {
     "name": "stdout",
     "output_type": "stream",
     "text": [
      "helloworld\n"
     ]
    }
   ],
   "source": [
    "s1 = 'hello'\n",
    "s2 = 'world'\n",
    "print(s1 + s2)"
   ]
  },
  {
   "cell_type": "markdown",
   "metadata": {},
   "source": [
    "### 2.2.2 Separando strings\n",
    "\n",
    "podemos separar uma string em determinados pontos especificando o caracter, onde desejamos separar a string utilizando o método .split()"
   ]
  },
  {
   "cell_type": "code",
   "execution_count": 41,
   "metadata": {},
   "outputs": [
    {
     "data": {
      "text/plain": [
       "['esta', 'é', 'uma', 'string', 'de', 'exemplo']"
      ]
     },
     "execution_count": 41,
     "metadata": {},
     "output_type": "execute_result"
    }
   ],
   "source": [
    "s1 = 'esta é uma string de exemplo'\n",
    "s1.split(' ')"
   ]
  },
  {
   "cell_type": "markdown",
   "metadata": {},
   "source": [
    "### 2.2.3 Substituindo valores em uma string\n",
    "\n",
    "podemos substituir valores de uma string utiliando método:\n",
    "* .replace(alvo, substituto)\n",
    "    * alvo: representa o caracter ou a sequencia de caracteres que desejamos alterar\n",
    "    * substituto: representa o caracter ou a sequencia de caracteres que desejamos substituir"
   ]
  },
  {
   "cell_type": "code",
   "execution_count": 42,
   "metadata": {},
   "outputs": [
    {
     "data": {
      "text/plain": [
       "'esta_é_uma_string_de_exemplo'"
      ]
     },
     "execution_count": 42,
     "metadata": {},
     "output_type": "execute_result"
    }
   ],
   "source": [
    "s1 = 'esta é uma string de exemplo'\n",
    "s1.replace(' ', '_')"
   ]
  },
  {
   "cell_type": "markdown",
   "metadata": {},
   "source": [
    "### 2.2.4 Covertendo maiúscula e minúscula\n",
    "\n",
    "Podemos alterar a representação da string tanto para minúscula, como para maiúscula utilizando os métodos\n",
    "* upper()\n",
    "* lower()\n",
    "Esses métodos são úteis para padronizar string antes de realizar alguma comparação e/ou verificação, pois garantimos que todos os caracteres estarão no mesmo formato"
   ]
  },
  {
   "cell_type": "code",
   "execution_count": 43,
   "metadata": {},
   "outputs": [
    {
     "name": "stdout",
     "output_type": "stream",
     "text": [
      "EsTa É uMa sTrInG dE eXeMpLo\n",
      "ESTA É UMA STRING DE EXEMPLO\n",
      "esta é uma string de exemplo\n"
     ]
    }
   ],
   "source": [
    "s1 = 'EsTa É uMa sTrInG dE eXeMpLo'\n",
    "print(s1)\n",
    "print(s1.upper())\n",
    "print(s1.lower())"
   ]
  },
  {
   "cell_type": "markdown",
   "metadata": {},
   "source": [
    "## 2.3 Listas\n",
    "\n",
    "Listas são sequências mutáveis (podem ser alteradas), tipicamente usadas para armazenar coleções de itens. Essas coleções podem ser tanto homogeneas (ter o mesmo tipo) quanto heterogeneas (ter tipos diferentes). Podemos definir uma lista da seguinte forma:\n",
    "* lista = [obj1, obj2, obj3, ...]"
   ]
  },
  {
   "cell_type": "code",
   "execution_count": 45,
   "metadata": {},
   "outputs": [
    {
     "name": "stdout",
     "output_type": "stream",
     "text": [
      "[1, 2, 3] <class 'list'>\n"
     ]
    }
   ],
   "source": [
    "l = [1, 2, 3]\n",
    "print(l, type(l))"
   ]
  },
  {
   "cell_type": "markdown",
   "metadata": {},
   "source": [
    "### 2.3.1 Acessando itens de uma lista\n",
    "\n",
    "para acessar algum item da lista é preciso informar a variável que esta armazenando a lista, seguido de um indexador entre [], o qual informa a posição a ser acessada:\n",
    "* lista[idx]\n",
    "    * idx: é o indice (posição) a ser acessada\n",
    "    \n",
    "Python suporta index negativos, o qual reprenta a indexação de maneira inversa (do fim para o começo). Portanto, para um vetor com 10 elementos, lista[9] é igual a lista[-1]"
   ]
  },
  {
   "cell_type": "code",
   "execution_count": 55,
   "metadata": {},
   "outputs": [
    {
     "name": "stdout",
     "output_type": "stream",
     "text": [
      "10\n",
      "10\n"
     ]
    }
   ],
   "source": [
    "l = [1, 2, 3, 4, 5, 6, 7, 8, 9, 10]\n",
    "print(l[9])\n",
    "print(l[-1])"
   ]
  },
  {
   "cell_type": "markdown",
   "metadata": {},
   "source": [
    "### 2.3.2 alterando item de uma lista\n",
    "\n",
    "Como as listas são mutáveis, elas permitem a alteração dos itens. Podemos alterar os itens atribuindo um novo item para a posição desejada"
   ]
  },
  {
   "cell_type": "code",
   "execution_count": 49,
   "metadata": {},
   "outputs": [
    {
     "name": "stdout",
     "output_type": "stream",
     "text": [
      "[1, 2, 3, 'abc', 5, 6, 7, 8, 9, 10]\n"
     ]
    }
   ],
   "source": [
    "l[3] = 'abc'\n",
    "print(l)"
   ]
  },
  {
   "cell_type": "markdown",
   "metadata": {},
   "source": [
    "### 2.3.3 adicionando items na lista\n",
    "\n",
    "Podemos adicionar itens na lista utilizando os seguintes métodos:\n",
    "* .append(item): adiciona item no final da lista\n",
    "* insert(pos, item): adiciona o item na posição pos "
   ]
  },
  {
   "cell_type": "code",
   "execution_count": 50,
   "metadata": {},
   "outputs": [
    {
     "data": {
      "text/plain": [
       "['cachorro', 'gato', 'pássaro', 'leão']"
      ]
     },
     "execution_count": 50,
     "metadata": {},
     "output_type": "execute_result"
    }
   ],
   "source": [
    "animais = ['cachorro', 'gato', 'pássaro']\n",
    "#append\n",
    "animais.append('leão')\n",
    "animais"
   ]
  },
  {
   "cell_type": "code",
   "execution_count": 51,
   "metadata": {},
   "outputs": [
    {
     "data": {
      "text/plain": [
       "['cachorro', 'peixe', 'gato', 'pássaro', 'leão']"
      ]
     },
     "execution_count": 51,
     "metadata": {},
     "output_type": "execute_result"
    }
   ],
   "source": [
    "#adicionando itens em uma posição específica\n",
    "animais.insert(1, 'peixe')\n",
    "animais"
   ]
  },
  {
   "cell_type": "markdown",
   "metadata": {},
   "source": [
    "### 2.3.4 Contando itens de uma lista\n",
    "\n",
    "podemos contar a quantidade de elementos de uma lista utilizando o métodos len()"
   ]
  },
  {
   "cell_type": "code",
   "execution_count": 56,
   "metadata": {},
   "outputs": [
    {
     "data": {
      "text/plain": [
       "5"
      ]
     },
     "execution_count": 56,
     "metadata": {},
     "output_type": "execute_result"
    }
   ],
   "source": [
    "len(animais)"
   ]
  },
  {
   "cell_type": "markdown",
   "metadata": {},
   "source": [
    "### 2.3.5 Removendo itens de uma lista\n",
    "\n",
    "Podemos remover um item da lista utilizando o métodos remove()"
   ]
  },
  {
   "cell_type": "code",
   "execution_count": 57,
   "metadata": {},
   "outputs": [
    {
     "data": {
      "text/plain": [
       "['cachorro', 'gato', 'pássaro', 'leão']"
      ]
     },
     "execution_count": 57,
     "metadata": {},
     "output_type": "execute_result"
    }
   ],
   "source": [
    "animais.remove('peixe')\n",
    "animais"
   ]
  },
  {
   "cell_type": "markdown",
   "metadata": {},
   "source": [
    "### 2.3.6 Fatiamento de listas (slicing)\n",
    "* Para utilizar o slicing podemos indexar a lista usando lista[start : end : step] \n",
    "    * **start**: item inicial do fatiamento\n",
    "    * **end**: item final do fatiamento\n",
    "    * **step**: espaçamento entre cada item"
   ]
  },
  {
   "cell_type": "code",
   "execution_count": 58,
   "metadata": {},
   "outputs": [
    {
     "name": "stdout",
     "output_type": "stream",
     "text": [
      "[10, 11, 12, 13, 14, 15, 16, 17, 18, 19]\n",
      "[0, 1, 2, 3, 4]\n",
      "[0, 2, 4, 6, 8]\n"
     ]
    }
   ],
   "source": [
    "lista = list(range(20))\n",
    "print(lista[10:])\n",
    "print(lista[0:5])\n",
    "print(lista[0: 10: 2])"
   ]
  },
  {
   "cell_type": "markdown",
   "metadata": {},
   "source": [
    "### 2.3.7 Verificando itens de uma lista\n",
    "\n",
    "Podemos verificar se um item está presente ou não em uma lista utilizando o operando **in**"
   ]
  },
  {
   "cell_type": "code",
   "execution_count": 62,
   "metadata": {},
   "outputs": [
    {
     "name": "stdout",
     "output_type": "stream",
     "text": [
      "Informe o item a ser procurado: elefante\n"
     ]
    },
    {
     "data": {
      "text/plain": [
       "False"
      ]
     },
     "execution_count": 62,
     "metadata": {},
     "output_type": "execute_result"
    }
   ],
   "source": [
    "item = input('Informe o item a ser procurado: ')\n",
    "item in animais"
   ]
  },
  {
   "cell_type": "markdown",
   "metadata": {},
   "source": [
    "### 2.3.8 Ordenando uma lista\n",
    "\n",
    "Podemos ordenar uma lista utilizando .sort()"
   ]
  },
  {
   "cell_type": "code",
   "execution_count": 68,
   "metadata": {},
   "outputs": [
    {
     "name": "stdout",
     "output_type": "stream",
     "text": [
      "[10, 9, 8, 7, 6, 5, 4, 3, 2, 1]\n",
      "[1, 2, 3, 4, 5, 6, 7, 8, 9, 10]\n"
     ]
    }
   ],
   "source": [
    "lista = [10, 9 , 8, 7, 6, 5, 4, 3, 2, 1]\n",
    "print(lista)\n",
    "lista.sort()\n",
    "print(lista)"
   ]
  },
  {
   "cell_type": "markdown",
   "metadata": {},
   "source": [
    "## 2.4 Tuplas\n",
    "\n",
    "Tupla é um tipo de estrutura de dados do Python que tem como principal característica ser imutável. Ou seja, ao criar uma tupla você não consegue alterar nenhum elemento que faça parte dela. \n",
    "\n",
    "Normalmente, as tuplas são utilizadas para armazenar sequências de códigos que não serão modificadas. Isso porque a sua característica de imutabilidade dão mais segurança ao desenvolvedor e maior proteção ao código."
   ]
  },
  {
   "cell_type": "code",
   "execution_count": 69,
   "metadata": {},
   "outputs": [
    {
     "name": "stdout",
     "output_type": "stream",
     "text": [
      "('gato', 1, [3, 4], 2.4) <class 'tuple'>\n"
     ]
    }
   ],
   "source": [
    "#criando uma tupla\n",
    "tupla_1 = ('gato', 1, [3, 4], 2.4)\n",
    "print(tupla_1, type(tupla_1))"
   ]
  },
  {
   "cell_type": "code",
   "execution_count": 64,
   "metadata": {},
   "outputs": [
    {
     "data": {
      "text/plain": [
       "'gato'"
      ]
     },
     "execution_count": 64,
     "metadata": {},
     "output_type": "execute_result"
    }
   ],
   "source": [
    "#acessando dados de um tupla\n",
    "tupla_1[0]"
   ]
  },
  {
   "cell_type": "code",
   "execution_count": 65,
   "metadata": {},
   "outputs": [
    {
     "ename": "TypeError",
     "evalue": "'tuple' object does not support item assignment",
     "output_type": "error",
     "traceback": [
      "\u001b[1;31m---------------------------------------------------------------------------\u001b[0m",
      "\u001b[1;31mTypeError\u001b[0m                                 Traceback (most recent call last)",
      "Input \u001b[1;32mIn [65]\u001b[0m, in \u001b[0;36m<cell line: 2>\u001b[1;34m()\u001b[0m\n\u001b[0;32m      1\u001b[0m \u001b[38;5;66;03m#exemplo de imutabilidade\u001b[39;00m\n\u001b[1;32m----> 2\u001b[0m tupla_1[\u001b[38;5;241m0\u001b[39m] \u001b[38;5;241m=\u001b[39m \u001b[38;5;124m'\u001b[39m\u001b[38;5;124mpeixe\u001b[39m\u001b[38;5;124m'\u001b[39m\n",
      "\u001b[1;31mTypeError\u001b[0m: 'tuple' object does not support item assignment"
     ]
    }
   ],
   "source": [
    "#exemplo de imutabilidade\n",
    "tupla_1[0] = 'peixe'"
   ]
  },
  {
   "cell_type": "markdown",
   "metadata": {},
   "source": [
    "## 2.5 Dicionários\n",
    "\n",
    "Um dicionário é uma estrutura de dados do tipo coleção organizadas na forma de <chave, valor>. Diferent das listas, onde os elementos são acessados por meio de uma posição ou índice, nos dicionários isso ocorre de forma diferente. O acesso às informações acontece por meio de chaves. \n",
    "\n",
    "Podemos criar um dicionário especificando {}"
   ]
  },
  {
   "cell_type": "code",
   "execution_count": 70,
   "metadata": {},
   "outputs": [
    {
     "name": "stdout",
     "output_type": "stream",
     "text": [
      "{'nome': 'Allan M. de Souza'} <class 'dict'>\n"
     ]
    }
   ],
   "source": [
    "pessoa = {}\n",
    "\n",
    "pessoa['nome'] = 'Allan M. de Souza'\n",
    "print(pessoa, type(pessoa))"
   ]
  },
  {
   "cell_type": "markdown",
   "metadata": {},
   "source": [
    "### 2.5.1 Atualizando dicionário\n",
    "\n",
    "podemos atualizar o dicionário utilizando o método .update()"
   ]
  },
  {
   "cell_type": "code",
   "execution_count": 71,
   "metadata": {},
   "outputs": [
    {
     "data": {
      "text/plain": [
       "{'nome': 'Allan M. de Souza', 'medidas': [1.75, 90], 'sexo': 'masculino'}"
      ]
     },
     "execution_count": 71,
     "metadata": {},
     "output_type": "execute_result"
    }
   ],
   "source": [
    "#atualizando dict\n",
    "pessoa.update({\n",
    "    'medidas' : [1.75, 90],\n",
    "    'sexo'    : 'masculino'\n",
    "})\n",
    "pessoa"
   ]
  },
  {
   "cell_type": "markdown",
   "metadata": {},
   "source": [
    "### 2.5.2 Acessando valores de um dicionário\n",
    "\n",
    "O acesso aos valores do dicionário podem ser feito utilizando a chave deseja. "
   ]
  },
  {
   "cell_type": "code",
   "execution_count": 73,
   "metadata": {},
   "outputs": [
    {
     "data": {
      "text/plain": [
       "'Allan Mariano de Souza'"
      ]
     },
     "execution_count": 73,
     "metadata": {},
     "output_type": "execute_result"
    }
   ],
   "source": [
    "pessoa['nome']"
   ]
  },
  {
   "cell_type": "markdown",
   "metadata": {},
   "source": [
    "Caso a chave não exista, acessando o dicionário utilizando o nome da chave em [] acontencerá um erro:"
   ]
  },
  {
   "cell_type": "code",
   "execution_count": 74,
   "metadata": {},
   "outputs": [
    {
     "ename": "KeyError",
     "evalue": "'idade'",
     "output_type": "error",
     "traceback": [
      "\u001b[1;31m---------------------------------------------------------------------------\u001b[0m",
      "\u001b[1;31mKeyError\u001b[0m                                  Traceback (most recent call last)",
      "Input \u001b[1;32mIn [74]\u001b[0m, in \u001b[0;36m<cell line: 1>\u001b[1;34m()\u001b[0m\n\u001b[1;32m----> 1\u001b[0m \u001b[43mpessoa\u001b[49m\u001b[43m[\u001b[49m\u001b[38;5;124;43m'\u001b[39;49m\u001b[38;5;124;43midade\u001b[39;49m\u001b[38;5;124;43m'\u001b[39;49m\u001b[43m]\u001b[49m\n",
      "\u001b[1;31mKeyError\u001b[0m: 'idade'"
     ]
    }
   ],
   "source": [
    "pessoa['idade']"
   ]
  },
  {
   "cell_type": "markdown",
   "metadata": {},
   "source": [
    "Para evitar esse tipo de erro, podemos acessar os itens do dicionário utilizado o método .get(). Assim, caso a chave não exista, nenhum item será retornado"
   ]
  },
  {
   "cell_type": "code",
   "execution_count": 75,
   "metadata": {},
   "outputs": [
    {
     "name": "stdout",
     "output_type": "stream",
     "text": [
      "Allan Mariano de Souza\n",
      "None\n"
     ]
    }
   ],
   "source": [
    "print(pessoa.get('nome'))\n",
    "print(pessoa.get('idade'))"
   ]
  },
  {
   "cell_type": "markdown",
   "metadata": {},
   "source": [
    "### 2.5.3 Alterando valores do dicionário\n",
    "\n",
    "Podemos alterar valores do dicionário sobrescrevendo um valor em uma determinada chave"
   ]
  },
  {
   "cell_type": "code",
   "execution_count": 72,
   "metadata": {},
   "outputs": [
    {
     "name": "stdout",
     "output_type": "stream",
     "text": [
      "{'nome': 'Allan Mariano de Souza', 'medidas': [1.75, 90], 'sexo': 'masculino'}\n"
     ]
    }
   ],
   "source": [
    "pessoa['nome'] = 'Allan Mariano de Souza'\n",
    "print(pessoa)"
   ]
  },
  {
   "cell_type": "markdown",
   "metadata": {},
   "source": [
    "## 2.6 Sets\n",
    "\n",
    "São é uma coleção de itens que não permite valores duplicados. Esses conjunto suportam operações matemáticas do tipo, união, intersecção, diferença, etc. Podemos criar um conjunto da seguinte forma:"
   ]
  },
  {
   "cell_type": "code",
   "execution_count": 80,
   "metadata": {},
   "outputs": [
    {
     "name": "stdout",
     "output_type": "stream",
     "text": [
      "{'A', 'B'} <class 'set'>\n"
     ]
    }
   ],
   "source": [
    "conjunto = set(['A', 'B'])\n",
    "print(conjunto, type(conjunto))"
   ]
  },
  {
   "cell_type": "markdown",
   "metadata": {},
   "source": [
    "### 2.6.1 Adicionando itens em um conjunto\n",
    "\n",
    "Podemos adicionar itens em um conjunto utilizando o método .add()"
   ]
  },
  {
   "cell_type": "code",
   "execution_count": 81,
   "metadata": {},
   "outputs": [
    {
     "name": "stdout",
     "output_type": "stream",
     "text": [
      "{'C', 'A', 'B'}\n"
     ]
    }
   ],
   "source": [
    "conjunto.add('C')\n",
    "print(conjunto)"
   ]
  },
  {
   "cell_type": "markdown",
   "metadata": {},
   "source": [
    "Como conjuntos não permitem valores duplicados, mesmo adicionando o mesmo valor várias vezes, apenas um item será inserido"
   ]
  },
  {
   "cell_type": "code",
   "execution_count": 82,
   "metadata": {},
   "outputs": [
    {
     "name": "stdout",
     "output_type": "stream",
     "text": [
      "{'C', 'A', 'B'}\n"
     ]
    }
   ],
   "source": [
    "conjunto.add('C')\n",
    "conjunto.add('C')\n",
    "conjunto.add('C')\n",
    "conjunto.add('C')\n",
    "print(conjunto)"
   ]
  },
  {
   "cell_type": "markdown",
   "metadata": {},
   "source": [
    "### 2.6.2 Removendo itens de um conjunto\n",
    "Da mesma forma, podemos remover itens de um conjunto utilizando o método .remove()"
   ]
  },
  {
   "cell_type": "code",
   "execution_count": 78,
   "metadata": {},
   "outputs": [
    {
     "name": "stdout",
     "output_type": "stream",
     "text": [
      "{'C', 'B'}\n"
     ]
    }
   ],
   "source": [
    "conjunto.remove('A')\n",
    "print(conjunto)"
   ]
  },
  {
   "cell_type": "markdown",
   "metadata": {},
   "source": [
    "# 3. Operadores\n",
    "\n",
    "Python suporta diferente tipos de operadores, incluindo:\n",
    "* Aritméticos\n",
    "* Relacionais\n",
    "* Lógicos"
   ]
  },
  {
   "cell_type": "markdown",
   "metadata": {},
   "source": [
    "## 3.1 Operadores aritméticos\n",
    "\n",
    "Operadores aritiméticos incluem: soma; subtração; multiplicação; divisão; e exponenciação"
   ]
  },
  {
   "cell_type": "code",
   "execution_count": 84,
   "metadata": {},
   "outputs": [],
   "source": [
    "a = 5\n",
    "b = 10"
   ]
  },
  {
   "cell_type": "code",
   "execution_count": 85,
   "metadata": {},
   "outputs": [
    {
     "name": "stdout",
     "output_type": "stream",
     "text": [
      "Soma: 15\n",
      "Subtração: -5\n",
      "Multiplicação: 50\n",
      "Divisão: 0.5\n",
      "Exponenciação: 9765625\n"
     ]
    }
   ],
   "source": [
    "#soma\n",
    "print(f'Soma: {a + b}')\n",
    "#subtração\n",
    "print(f'Subtração: {a - b}')\n",
    "#multiplicação\n",
    "print(f'Multiplicação: {a * b}')\n",
    "#Divisão\n",
    "print(f'Divisão: {a / b}')\n",
    "#exponenciação\n",
    "print(f'Exponenciação: {a ** b}')"
   ]
  },
  {
   "cell_type": "markdown",
   "metadata": {},
   "source": [
    "## 3.2 Operadores relacionais\n",
    "\n",
    "Operadores relacionais incluem: maior, menor, igual, diferente"
   ]
  },
  {
   "cell_type": "code",
   "execution_count": 86,
   "metadata": {},
   "outputs": [
    {
     "name": "stdout",
     "output_type": "stream",
     "text": [
      "Maior: False\n",
      "Menor: True\n",
      "Igualdade: False\n",
      "Diferença: True\n"
     ]
    }
   ],
   "source": [
    "#Maior\n",
    "print(f'Maior: {a > b}')\n",
    "#Menor\n",
    "print(f'Menor: {a < b}')\n",
    "#Igualdade\n",
    "print(f'Igualdade: {a == b}')\n",
    "#Diferença\n",
    "print(f'Diferença: {a != b}')"
   ]
  },
  {
   "cell_type": "markdown",
   "metadata": {},
   "source": [
    "## 3.3 Operadores Lógicos"
   ]
  },
  {
   "cell_type": "markdown",
   "metadata": {},
   "source": [
    "operadores lógicos incluem: and, or, xor, not"
   ]
  },
  {
   "cell_type": "code",
   "execution_count": 87,
   "metadata": {},
   "outputs": [
    {
     "name": "stdout",
     "output_type": "stream",
     "text": [
      "And: 10\n",
      "Or: 5\n",
      "Xor: 15\n",
      "Not: False\n"
     ]
    }
   ],
   "source": [
    "#and\n",
    "print(f'And: {a and b}')\n",
    "#or\n",
    "print(f'Or: {a or b}')\n",
    "#xor\n",
    "print(f'Xor: {a ^ b}')\n",
    "#not\n",
    "print(f'Not: {not (a and b)}')"
   ]
  },
  {
   "cell_type": "code",
   "execution_count": null,
   "metadata": {},
   "outputs": [],
   "source": []
  }
 ],
 "metadata": {
  "colab": {
   "provenance": []
  },
  "kernelspec": {
   "display_name": "Python 3 (ipykernel)",
   "language": "python",
   "name": "python3"
  },
  "language_info": {
   "codemirror_mode": {
    "name": "ipython",
    "version": 3
   },
   "file_extension": ".py",
   "mimetype": "text/x-python",
   "name": "python",
   "nbconvert_exporter": "python",
   "pygments_lexer": "ipython3",
   "version": "3.8.12"
  }
 },
 "nbformat": 4,
 "nbformat_minor": 1
}
